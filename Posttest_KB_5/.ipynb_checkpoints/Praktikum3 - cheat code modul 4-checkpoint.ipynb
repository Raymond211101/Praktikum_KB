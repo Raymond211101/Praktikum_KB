{
 "cells": [
  {
   "cell_type": "markdown",
   "metadata": {},
   "source": [
    "### Intro\n",
    "The library used for this script is this:\n",
    "<ul>\n",
    "    <li> pandas         ==> 1.5.0\n",
    "    <li> numpy          ==> 1.23.3\n",
    "    <li> seaborn        ==> 0.12.0\n",
    "    <li> matplotlib     ==> 3.5.3\n",
    "    <li> scikit-learn   ==> 1.1.2\n",
    "</ul>"
   ]
  },
  {
   "cell_type": "markdown",
   "metadata": {},
   "source": [
    "# Data Preproceesing\n",
    "<ol>\n",
    "<li> Data Splitting <br>\n",
    "    splitting the dataset to training set, validation set, testing set <br><br>\n",
    "<li> Data Transformation <br>\n",
    "    <ul>\n",
    "        <li> normalisasi <br>\n",
    "        <li> standarisasi <br><br>\n",
    "    </ul>\n",
    "<li> Data Cleaning <br>\n",
    "    <ul>\n",
    "        <li> null value <br>\n",
    "        <li> wrong format <br>\n",
    "        <li> duplicated value <br><br>\n",
    "    </ul>\n",
    "<li> Encoding <br>\n",
    "    <ul>\n",
    "        <li> ordinal encoding <br>\n",
    "        <li> one hot encoding <br><br>\n",
    "    </ul>\n",
    "</ol>"
   ]
  },
  {
   "cell_type": "markdown",
   "metadata": {},
   "source": [
    "### **1. Data Splitting**\n",
    "In this example we are using the training set and testing set only. In this example I'm using the <a href=\"https://raw.githubusercontent.com/mwaskom/seaborn-data/master/iris.csv\"> Iris dataset </a> with csv file type"
   ]
  },
  {
   "cell_type": "code",
   "execution_count": 209,
   "metadata": {},
   "outputs": [],
   "source": [
    "# import the used library\n",
    "import pandas as pd\n",
    "import numpy as np\n",
    "from sklearn.model_selection import train_test_split"
   ]
  },
  {
   "cell_type": "code",
   "execution_count": 210,
   "metadata": {},
   "outputs": [
    {
     "data": {
      "text/html": [
       "<div>\n",
       "<style scoped>\n",
       "    .dataframe tbody tr th:only-of-type {\n",
       "        vertical-align: middle;\n",
       "    }\n",
       "\n",
       "    .dataframe tbody tr th {\n",
       "        vertical-align: top;\n",
       "    }\n",
       "\n",
       "    .dataframe thead th {\n",
       "        text-align: right;\n",
       "    }\n",
       "</style>\n",
       "<table border=\"1\" class=\"dataframe\">\n",
       "  <thead>\n",
       "    <tr style=\"text-align: right;\">\n",
       "      <th></th>\n",
       "      <th>sepal_length</th>\n",
       "      <th>sepal_width</th>\n",
       "      <th>petal_length</th>\n",
       "      <th>petal_width</th>\n",
       "      <th>species</th>\n",
       "    </tr>\n",
       "  </thead>\n",
       "  <tbody>\n",
       "    <tr>\n",
       "      <th>0</th>\n",
       "      <td>5.1</td>\n",
       "      <td>3.5</td>\n",
       "      <td>1.4</td>\n",
       "      <td>0.2</td>\n",
       "      <td>setosa</td>\n",
       "    </tr>\n",
       "    <tr>\n",
       "      <th>1</th>\n",
       "      <td>4.9</td>\n",
       "      <td>3.0</td>\n",
       "      <td>1.4</td>\n",
       "      <td>0.2</td>\n",
       "      <td>setosa</td>\n",
       "    </tr>\n",
       "    <tr>\n",
       "      <th>2</th>\n",
       "      <td>4.7</td>\n",
       "      <td>3.2</td>\n",
       "      <td>1.3</td>\n",
       "      <td>0.2</td>\n",
       "      <td>setosa</td>\n",
       "    </tr>\n",
       "    <tr>\n",
       "      <th>3</th>\n",
       "      <td>4.6</td>\n",
       "      <td>3.1</td>\n",
       "      <td>1.5</td>\n",
       "      <td>0.2</td>\n",
       "      <td>setosa</td>\n",
       "    </tr>\n",
       "    <tr>\n",
       "      <th>4</th>\n",
       "      <td>5.0</td>\n",
       "      <td>3.6</td>\n",
       "      <td>1.4</td>\n",
       "      <td>0.2</td>\n",
       "      <td>setosa</td>\n",
       "    </tr>\n",
       "  </tbody>\n",
       "</table>\n",
       "</div>"
      ],
      "text/plain": [
       "   sepal_length  sepal_width  petal_length  petal_width species\n",
       "0           5.1          3.5           1.4          0.2  setosa\n",
       "1           4.9          3.0           1.4          0.2  setosa\n",
       "2           4.7          3.2           1.3          0.2  setosa\n",
       "3           4.6          3.1           1.5          0.2  setosa\n",
       "4           5.0          3.6           1.4          0.2  setosa"
      ]
     },
     "execution_count": 210,
     "metadata": {},
     "output_type": "execute_result"
    }
   ],
   "source": [
    "# Get the dataset from github\n",
    "dataset_iris = pd.read_csv('https://raw.githubusercontent.com/mwaskom/seaborn-data/master/iris.csv')\n",
    "dataset_iris.head(5)"
   ]
  },
  {
   "cell_type": "code",
   "execution_count": 211,
   "metadata": {},
   "outputs": [
    {
     "name": "stdout",
     "output_type": "stream",
     "text": [
      "The length of iris dataset is 150 row\n"
     ]
    }
   ],
   "source": [
    "print(f'The length of iris dataset is {len(dataset_iris)} row')"
   ]
  },
  {
   "cell_type": "markdown",
   "metadata": {},
   "source": [
    "#### 1-a. Manual\n",
    "Using index"
   ]
  },
  {
   "cell_type": "code",
   "execution_count": 212,
   "metadata": {},
   "outputs": [],
   "source": [
    "# training set\n",
    "data_train = dataset_iris[['sepal_length', 'sepal_width', 'petal_length', 'petal_width']][:110]\n",
    "label_train = dataset_iris['species'][:110]\n",
    "# testing set\n",
    "data_test = dataset_iris[['sepal_length', 'sepal_width', 'petal_length', 'petal_width']][-40:]\n",
    "label_test = dataset_iris['species'][-40:]"
   ]
  },
  {
   "cell_type": "code",
   "execution_count": 213,
   "metadata": {},
   "outputs": [
    {
     "name": "stdout",
     "output_type": "stream",
     "text": [
      "the length of data train is 110 row\n",
      "the length of label train is 110 row\n",
      "the length of data test is 40 row\n",
      "the length of label test is 40 row\n",
      "the length of total dataset is 150 row\n"
     ]
    }
   ],
   "source": [
    "# check the separated data length\n",
    "print(f'the length of data train is {len(data_train)} row',\n",
    "      f'the length of label train is {len(label_train)} row',\n",
    "      f'the length of data test is {len(data_test)} row',\n",
    "      f'the length of label test is {len(label_test)} row',\n",
    "      f'the length of total dataset is {len(dataset_iris)} row',\n",
    "      sep='\\n')"
   ]
  },
  {
   "cell_type": "markdown",
   "metadata": {},
   "source": [
    "#### 1-b. Automate\n",
    "Using the function from sklearn\n",
    "\n",
    "data_X === X === data <br>\n",
    "label_Y === Y === label"
   ]
  },
  {
   "cell_type": "code",
   "execution_count": 214,
   "metadata": {},
   "outputs": [],
   "source": [
    "data_X = dataset_iris[['sepal_length', 'sepal_width', 'petal_length', 'petal_width']]\n",
    "label_Y = dataset_iris['species']"
   ]
  },
  {
   "cell_type": "code",
   "execution_count": 215,
   "metadata": {},
   "outputs": [],
   "source": [
    "# split the dataset with 20% test set\n",
    "x_train, x_test, y_train, y_test = train_test_split(data_X, label_Y, test_size=.2)"
   ]
  },
  {
   "cell_type": "code",
   "execution_count": 216,
   "metadata": {},
   "outputs": [
    {
     "name": "stdout",
     "output_type": "stream",
     "text": [
      "the length of data train is 120 row\n",
      "the length of label train is 120 row\n",
      "the length of data test is 30 row\n",
      "the length of label test is 30 row\n",
      "the length of total dataset is 150 row\n"
     ]
    }
   ],
   "source": [
    "# check the separated data length\n",
    "print(f'the length of data train is {len(x_train)} row',\n",
    "      f'the length of label train is {len(y_train)} row',\n",
    "      f'the length of data test is {len(x_test)} row',\n",
    "      f'the length of label test is {len(y_test)} row',\n",
    "      f'the length of total dataset is {len(dataset_iris)} row',\n",
    "      sep='\\n')"
   ]
  },
  {
   "cell_type": "markdown",
   "metadata": {},
   "source": [
    "### **2. Transformation**\n",
    "In this example we are using the normalization and standardization on int dataset"
   ]
  },
  {
   "cell_type": "code",
   "execution_count": 217,
   "metadata": {},
   "outputs": [],
   "source": [
    "# importing the used tools\n",
    "from sklearn.preprocessing import StandardScaler    # for standarization\n",
    "from sklearn.preprocessing import MinMaxScaler      # for normalization\n",
    "import matplotlib.pyplot as plt                     # for visualization\n",
    "import seaborn as sns                               # for visualization"
   ]
  },
  {
   "cell_type": "markdown",
   "metadata": {},
   "source": [
    "#### 2-a. Standarization"
   ]
  },
  {
   "cell_type": "code",
   "execution_count": 218,
   "metadata": {},
   "outputs": [],
   "source": [
    "dataset_used_standarization = dataset_iris.copy()   # make a new dataframe to make the original dataframe safe\n",
    "\n",
    "# removing the species column\n",
    "dataset_used_standarization.drop('species', axis=1, inplace=True)   # axis=1 == column | axis=0 == row | inplace=True == do the execution without reassign\n",
    "\n",
    "# build the tool\n",
    "standart_std = StandardScaler()\n",
    "\n",
    "# standarization process\n",
    "scaled_data = standart_std.fit_transform(dataset_used_standarization)"
   ]
  },
  {
   "cell_type": "code",
   "execution_count": 219,
   "metadata": {},
   "outputs": [
    {
     "name": "stdout",
     "output_type": "stream",
     "text": [
      "Dataset sebelum scalling:\n",
      "   sepal_length  sepal_width  petal_length  petal_width\n",
      "0           5.1          3.5           1.4          0.2\n",
      "1           4.9          3.0           1.4          0.2\n",
      "2           4.7          3.2           1.3          0.2\n",
      "3           4.6          3.1           1.5          0.2\n",
      "4           5.0          3.6           1.4          0.2\n",
      "5           5.4          3.9           1.7          0.4\n",
      "Nilai standar deviasi:\n",
      "sepal_length    0.825301\n",
      "sepal_width     0.434411\n",
      "petal_length    1.759404\n",
      "petal_width     0.759693\n",
      "dtype: float64\n",
      "\n",
      "Dataset setelah scalling:\n",
      "[[-0.90068117  1.01900435 -1.34022653 -1.3154443 ]\n",
      " [-1.14301691 -0.13197948 -1.34022653 -1.3154443 ]\n",
      " [-1.38535265  0.32841405 -1.39706395 -1.3154443 ]\n",
      " [-1.50652052  0.09821729 -1.2833891  -1.3154443 ]\n",
      " [-1.02184904  1.24920112 -1.34022653 -1.3154443 ]\n",
      " [-0.53717756  1.93979142 -1.16971425 -1.05217993]]\n",
      "Nilai standar deviasi: 1.0\n"
     ]
    },
    {
     "name": "stderr",
     "output_type": "stream",
     "text": [
      "c:\\Users\\Bugi\\AppData\\Local\\Programs\\Python\\Python310\\lib\\site-packages\\numpy\\core\\fromnumeric.py:3571: FutureWarning: The default value of numeric_only in DataFrame.std is deprecated. In a future version, it will default to False. In addition, specifying 'numeric_only=None' is deprecated. Select only valid columns or specify the value of numeric_only to silence this warning.\n",
      "  return std(axis=axis, dtype=dtype, out=out, ddof=ddof, **kwargs)\n"
     ]
    }
   ],
   "source": [
    "# check the value before and after\n",
    "print('Dataset sebelum scalling:',  # before\n",
    "      dataset_iris.drop('species', axis=1).head(6),\n",
    "      f'Nilai standar deviasi:\\n{np.std(dataset_iris)}',\n",
    "      sep='\\n', end='\\n\\n')\n",
    "\n",
    "print('Dataset setelah scalling:',  # after\n",
    "      scaled_data[:6],\n",
    "      f'Nilai standar deviasi: {np.std(scaled_data)}',\n",
    "      sep='\\n')"
   ]
  },
  {
   "cell_type": "markdown",
   "metadata": {},
   "source": [
    "#### 2-b. Normalization"
   ]
  },
  {
   "cell_type": "code",
   "execution_count": 220,
   "metadata": {},
   "outputs": [],
   "source": [
    "# build the dataframe for normalization from iris dataset\n",
    "dataset_normalization = dataset_iris.copy()\n",
    "\n",
    "# build the normalization tool\n",
    "scaler = MinMaxScaler()\n",
    "\n",
    "# scale the data\n",
    "normalize_dataset = scaler.fit_transform(dataset_normalization[['sepal_length', 'sepal_width', 'petal_length', 'petal_width']])\n",
    "\n",
    "# reformat the dataset into dataframe\n",
    "normalize_dataset = pd.DataFrame(normalize_dataset)\n",
    "\n",
    "# return the attribute name\n",
    "normalize_dataset.rename(columns={0:'sepal_length', 1:'sepal_width', 2:'petal_length', 3:'petal_width'}, inplace=True)"
   ]
  },
  {
   "cell_type": "code",
   "execution_count": 221,
   "metadata": {},
   "outputs": [
    {
     "data": {
      "image/png": "[encoded data removed]",
      "text/plain": [
       "<Figure size 500x500 with 1 Axes>"
      ]
     },
     "metadata": {},
     "output_type": "display_data"
    },
    {
     "data": {
      "image/png": "[encoded data removed]",
      "text/plain": [
       "<Figure size 500x500 with 1 Axes>"
      ]
     },
     "metadata": {},
     "output_type": "display_data"
    }
   ],
   "source": [
    "# visualize the dataset before being normalize\n",
    "plt.figure(1, figsize=(5,5))\n",
    "sns.scatterplot(dataset_normalization, x='sepal_length', y='sepal_width', color='red')\n",
    "plt.title('Sepal Distribution')\n",
    "plt.xlabel('Sepal Length')\n",
    "plt.ylabel('Sepal width')\n",
    "\n",
    "plt.figure(2, figsize=(5,5))\n",
    "sns.scatterplot(dataset_normalization, x='petal_length', y='petal_width', color='blue')\n",
    "plt.title('Petal Distribution')\n",
    "plt.xlabel('Petal Length')\n",
    "plt.ylabel('Petal width')\n",
    "\n",
    "plt.show()"
   ]
  },
  {
   "cell_type": "code",
   "execution_count": 222,
   "metadata": {},
   "outputs": [
    {
     "data": {
      "image/png": "[encoded data removed]",
      "text/plain": [
       "<Figure size 500x500 with 1 Axes>"
      ]
     },
     "metadata": {},
     "output_type": "display_data"
    },
    {
     "data": {
      "image/png": "[encoded data removed]",
      "text/plain": [
       "<Figure size 500x500 with 1 Axes>"
      ]
     },
     "metadata": {},
     "output_type": "display_data"
    }
   ],
   "source": [
    "# visualize the dataset after being normalize\n",
    "plt.figure(1, figsize=(5,5))\n",
    "sns.scatterplot(normalize_dataset, x='sepal_length', y='sepal_width', color='red')\n",
    "plt.title('Sepal Distribution')\n",
    "plt.xlabel('Sepal Length')\n",
    "plt.ylabel('Sepal width')\n",
    "\n",
    "plt.figure(2, figsize=(5,5))\n",
    "sns.scatterplot(normalize_dataset, x='petal_length', y='petal_width', color='blue')\n",
    "plt.title('Petal Distribution')\n",
    "plt.xlabel('Petal Length')\n",
    "plt.ylabel('Petal width')\n",
    "\n",
    "plt.show()"
   ]
  },
  {
   "cell_type": "markdown",
   "metadata": {},
   "source": [
    "### **3. Data Cleaning**"
   ]
  },
  {
   "cell_type": "code",
   "execution_count": 223,
   "metadata": {},
   "outputs": [],
   "source": [
    "# importing the used library for data subtitution\n",
    "from sklearn.impute import SimpleImputer"
   ]
  },
  {
   "cell_type": "markdown",
   "metadata": {},
   "source": [
    "#### 3-a. Data with Null Value\n",
    "Null in dataframe is equal to nan\n",
    "<ul>\n",
    "    <li> Subtitution\n",
    "    <li> Deletion\n",
    "</ul>\n",
    "\n",
    "for this cheat code, I'm using the <a href=\"https://raw.githubusercontent.com/rrizwan43/Data-Cleanig-with-SQL/main/Cleaned_nashville_housing_dataset_.csv\">nashville housing dataset</a> with a csv file type"
   ]
  },
  {
   "cell_type": "code",
   "execution_count": 224,
   "metadata": {},
   "outputs": [
    {
     "data": {
      "text/html": [
       "<div>\n",
       "<style scoped>\n",
       "    .dataframe tbody tr th:only-of-type {\n",
       "        vertical-align: middle;\n",
       "    }\n",
       "\n",
       "    .dataframe tbody tr th {\n",
       "        vertical-align: top;\n",
       "    }\n",
       "\n",
       "    .dataframe thead th {\n",
       "        text-align: right;\n",
       "    }\n",
       "</style>\n",
       "<table border=\"1\" class=\"dataframe\">\n",
       "  <thead>\n",
       "    <tr style=\"text-align: right;\">\n",
       "      <th></th>\n",
       "      <th>UniqueID</th>\n",
       "      <th>ParcelID</th>\n",
       "      <th>LandUse</th>\n",
       "      <th>SalePrice</th>\n",
       "      <th>LegalReference</th>\n",
       "      <th>SoldAsVacant</th>\n",
       "      <th>OwnerName</th>\n",
       "      <th>Acreage</th>\n",
       "      <th>LandValue</th>\n",
       "      <th>BuildingValue</th>\n",
       "      <th>...</th>\n",
       "      <th>YearBuilt</th>\n",
       "      <th>Bedrooms</th>\n",
       "      <th>FullBath</th>\n",
       "      <th>HalfBath</th>\n",
       "      <th>SALEDATECONVERTED</th>\n",
       "      <th>PropertySplitAddress</th>\n",
       "      <th>PropertySplitCity</th>\n",
       "      <th>OwnerSplitAddress</th>\n",
       "      <th>OwnerSplitCity</th>\n",
       "      <th>OwnerSplitState</th>\n",
       "    </tr>\n",
       "  </thead>\n",
       "  <tbody>\n",
       "    <tr>\n",
       "      <th>0</th>\n",
       "      <td>2045</td>\n",
       "      <td>007 00 0 125.00</td>\n",
       "      <td>SINGLE FAMILY</td>\n",
       "      <td>240000</td>\n",
       "      <td>20130412-0036474</td>\n",
       "      <td>No</td>\n",
       "      <td>FRAZIER, CYRENTHA LYNETTE</td>\n",
       "      <td>2.3</td>\n",
       "      <td>50000.0</td>\n",
       "      <td>168200.0</td>\n",
       "      <td>...</td>\n",
       "      <td>1986.0</td>\n",
       "      <td>3.0</td>\n",
       "      <td>3.0</td>\n",
       "      <td>0.0</td>\n",
       "      <td>4/9/2013</td>\n",
       "      <td>1808  FOX CHASE DR</td>\n",
       "      <td>GOODLETTSVILLE</td>\n",
       "      <td>1808  FOX CHASE DR</td>\n",
       "      <td>GOODLETTSVILLE</td>\n",
       "      <td>TN</td>\n",
       "    </tr>\n",
       "    <tr>\n",
       "      <th>1</th>\n",
       "      <td>16918</td>\n",
       "      <td>007 00 0 130.00</td>\n",
       "      <td>SINGLE FAMILY</td>\n",
       "      <td>366000</td>\n",
       "      <td>20140619-0053768</td>\n",
       "      <td>No</td>\n",
       "      <td>BONER, CHARLES &amp; LESLIE</td>\n",
       "      <td>3.5</td>\n",
       "      <td>50000.0</td>\n",
       "      <td>264100.0</td>\n",
       "      <td>...</td>\n",
       "      <td>1998.0</td>\n",
       "      <td>3.0</td>\n",
       "      <td>3.0</td>\n",
       "      <td>2.0</td>\n",
       "      <td>6/10/2014</td>\n",
       "      <td>1832  FOX CHASE DR</td>\n",
       "      <td>GOODLETTSVILLE</td>\n",
       "      <td>1832  FOX CHASE DR</td>\n",
       "      <td>GOODLETTSVILLE</td>\n",
       "      <td>TN</td>\n",
       "    </tr>\n",
       "    <tr>\n",
       "      <th>2</th>\n",
       "      <td>54582</td>\n",
       "      <td>007 00 0 138.00</td>\n",
       "      <td>SINGLE FAMILY</td>\n",
       "      <td>435000</td>\n",
       "      <td>20160927-0101718</td>\n",
       "      <td>No</td>\n",
       "      <td>WILSON, JAMES E. &amp; JOANNE</td>\n",
       "      <td>2.9</td>\n",
       "      <td>50000.0</td>\n",
       "      <td>216200.0</td>\n",
       "      <td>...</td>\n",
       "      <td>1987.0</td>\n",
       "      <td>4.0</td>\n",
       "      <td>3.0</td>\n",
       "      <td>0.0</td>\n",
       "      <td>9/26/2016</td>\n",
       "      <td>1864 FOX CHASE  DR</td>\n",
       "      <td>GOODLETTSVILLE</td>\n",
       "      <td>1864  FOX CHASE DR</td>\n",
       "      <td>GOODLETTSVILLE</td>\n",
       "      <td>TN</td>\n",
       "    </tr>\n",
       "    <tr>\n",
       "      <th>3</th>\n",
       "      <td>43070</td>\n",
       "      <td>007 00 0 143.00</td>\n",
       "      <td>SINGLE FAMILY</td>\n",
       "      <td>255000</td>\n",
       "      <td>20160129-0008913</td>\n",
       "      <td>No</td>\n",
       "      <td>BAKER, JAY K. &amp; SUSAN E.</td>\n",
       "      <td>2.6</td>\n",
       "      <td>50000.0</td>\n",
       "      <td>147300.0</td>\n",
       "      <td>...</td>\n",
       "      <td>1985.0</td>\n",
       "      <td>3.0</td>\n",
       "      <td>3.0</td>\n",
       "      <td>0.0</td>\n",
       "      <td>1/29/2016</td>\n",
       "      <td>1853  FOX CHASE DR</td>\n",
       "      <td>GOODLETTSVILLE</td>\n",
       "      <td>1853  FOX CHASE DR</td>\n",
       "      <td>GOODLETTSVILLE</td>\n",
       "      <td>TN</td>\n",
       "    </tr>\n",
       "    <tr>\n",
       "      <th>4</th>\n",
       "      <td>22714</td>\n",
       "      <td>007 00 0 149.00</td>\n",
       "      <td>SINGLE FAMILY</td>\n",
       "      <td>278000</td>\n",
       "      <td>20141015-0095255</td>\n",
       "      <td>No</td>\n",
       "      <td>POST, CHRISTOPHER M. &amp; SAMANTHA C.</td>\n",
       "      <td>2.0</td>\n",
       "      <td>50000.0</td>\n",
       "      <td>152300.0</td>\n",
       "      <td>...</td>\n",
       "      <td>1984.0</td>\n",
       "      <td>4.0</td>\n",
       "      <td>3.0</td>\n",
       "      <td>0.0</td>\n",
       "      <td>10/10/2014</td>\n",
       "      <td>1829  FOX CHASE DR</td>\n",
       "      <td>GOODLETTSVILLE</td>\n",
       "      <td>1829  FOX CHASE DR</td>\n",
       "      <td>GOODLETTSVILLE</td>\n",
       "      <td>TN</td>\n",
       "    </tr>\n",
       "  </tbody>\n",
       "</table>\n",
       "<p>5 rows × 21 columns</p>\n",
       "</div>"
      ],
      "text/plain": [
       "   UniqueID          ParcelID        LandUse  SalePrice    LegalReference  \\\n",
       "0       2045  007 00 0 125.00  SINGLE FAMILY     240000  20130412-0036474   \n",
       "1      16918  007 00 0 130.00  SINGLE FAMILY     366000  20140619-0053768   \n",
       "2      54582  007 00 0 138.00  SINGLE FAMILY     435000  20160927-0101718   \n",
       "3      43070  007 00 0 143.00  SINGLE FAMILY     255000  20160129-0008913   \n",
       "4      22714  007 00 0 149.00  SINGLE FAMILY     278000  20141015-0095255   \n",
       "\n",
       "  SoldAsVacant                           OwnerName  Acreage  LandValue  \\\n",
       "0           No           FRAZIER, CYRENTHA LYNETTE      2.3    50000.0   \n",
       "1           No             BONER, CHARLES & LESLIE      3.5    50000.0   \n",
       "2           No           WILSON, JAMES E. & JOANNE      2.9    50000.0   \n",
       "3           No            BAKER, JAY K. & SUSAN E.      2.6    50000.0   \n",
       "4           No  POST, CHRISTOPHER M. & SAMANTHA C.      2.0    50000.0   \n",
       "\n",
       "   BuildingValue  ...  YearBuilt  Bedrooms  FullBath  HalfBath  \\\n",
       "0       168200.0  ...     1986.0       3.0       3.0       0.0   \n",
       "1       264100.0  ...     1998.0       3.0       3.0       2.0   \n",
       "2       216200.0  ...     1987.0       4.0       3.0       0.0   \n",
       "3       147300.0  ...     1985.0       3.0       3.0       0.0   \n",
       "4       152300.0  ...     1984.0       4.0       3.0       0.0   \n",
       "\n",
       "   SALEDATECONVERTED PropertySplitAddress PropertySplitCity  \\\n",
       "0           4/9/2013   1808  FOX CHASE DR    GOODLETTSVILLE   \n",
       "1          6/10/2014   1832  FOX CHASE DR    GOODLETTSVILLE   \n",
       "2          9/26/2016   1864 FOX CHASE  DR    GOODLETTSVILLE   \n",
       "3          1/29/2016   1853  FOX CHASE DR    GOODLETTSVILLE   \n",
       "4         10/10/2014   1829  FOX CHASE DR    GOODLETTSVILLE   \n",
       "\n",
       "    OwnerSplitAddress   OwnerSplitCity OwnerSplitState  \n",
       "0  1808  FOX CHASE DR   GOODLETTSVILLE              TN  \n",
       "1  1832  FOX CHASE DR   GOODLETTSVILLE              TN  \n",
       "2  1864  FOX CHASE DR   GOODLETTSVILLE              TN  \n",
       "3  1853  FOX CHASE DR   GOODLETTSVILLE              TN  \n",
       "4  1829  FOX CHASE DR   GOODLETTSVILLE              TN  \n",
       "\n",
       "[5 rows x 21 columns]"
      ]
     },
     "execution_count": 224,
     "metadata": {},
     "output_type": "execute_result"
    }
   ],
   "source": [
    "dataset_nashville = pd.read_csv(\"https://raw.githubusercontent.com/rrizwan43/Data-Cleanig-with-SQL/main/Cleaned_nashville_housing_dataset_.csv\",\n",
    "                             sep=',')\n",
    "dataset_nashville.head(5)"
   ]
  },
  {
   "cell_type": "code",
   "execution_count": 225,
   "metadata": {},
   "outputs": [
    {
     "name": "stdout",
     "output_type": "stream",
     "text": [
      "UniqueID                    0\n",
      "ParcelID                    0\n",
      "LandUse                     0\n",
      "SalePrice                   0\n",
      "LegalReference              0\n",
      "SoldAsVacant                0\n",
      "OwnerName               31158\n",
      "Acreage                 30404\n",
      "LandValue               30404\n",
      "BuildingValue           30404\n",
      "TotalValue              30404\n",
      "YearBuilt               32255\n",
      "Bedrooms                32261\n",
      "FullBath                32143\n",
      "HalfBath                32274\n",
      "SALEDATECONVERTED           0\n",
      "PropertySplitAddress        0\n",
      "PropertySplitCity           0\n",
      "OwnerSplitAddress       30404\n",
      "OwnerSplitCity          30404\n",
      "OwnerSplitState         30404\n",
      "dtype: int64\n"
     ]
    }
   ],
   "source": [
    "# check the dataset have null value or not\n",
    "print(dataset_nashville.isna().sum())\n",
    "\n",
    "# conclusion => there are several column with null value. That is\n",
    "# OwnerName, Acreage, LandValue, BuildingValue, TotalValue, YearBuilt, \n",
    "# Bedrooms, FullBath, HalfBath, OwnerSplitAddress, OwnerSplitCity, OwnerSplitState\n",
    "\n",
    "# copy the dataset into new dataframe\n",
    "dataset_nashville_used = dataset_nashville.copy()"
   ]
  },
  {
   "cell_type": "code",
   "execution_count": 226,
   "metadata": {},
   "outputs": [
    {
     "name": "stdout",
     "output_type": "stream",
     "text": [
      "<class 'pandas.core.frame.DataFrame'>\n",
      "RangeIndex: 56373 entries, 0 to 56372\n",
      "Data columns (total 21 columns):\n",
      " #   Column                Non-Null Count  Dtype  \n",
      "---  ------                --------------  -----  \n",
      " 0   UniqueID              56373 non-null  int64  \n",
      " 1   ParcelID              56373 non-null  object \n",
      " 2   LandUse               56373 non-null  object \n",
      " 3   SalePrice             56373 non-null  int64  \n",
      " 4   LegalReference        56373 non-null  object \n",
      " 5   SoldAsVacant          56373 non-null  object \n",
      " 6   OwnerName             25215 non-null  object \n",
      " 7   Acreage               25969 non-null  float64\n",
      " 8   LandValue             25969 non-null  float64\n",
      " 9   BuildingValue         25969 non-null  float64\n",
      " 10  TotalValue            25969 non-null  float64\n",
      " 11  YearBuilt             24118 non-null  float64\n",
      " 12  Bedrooms              24112 non-null  float64\n",
      " 13  FullBath              24230 non-null  float64\n",
      " 14  HalfBath              24099 non-null  float64\n",
      " 15  SALEDATECONVERTED     56373 non-null  object \n",
      " 16  PropertySplitAddress  56373 non-null  object \n",
      " 17  PropertySplitCity     56373 non-null  object \n",
      " 18  OwnerSplitAddress     25969 non-null  object \n",
      " 19  OwnerSplitCity        25969 non-null  object \n",
      " 20  OwnerSplitState       25969 non-null  object \n",
      "dtypes: float64(8), int64(2), object(11)\n",
      "memory usage: 9.0+ MB\n"
     ]
    }
   ],
   "source": [
    "# check the column type\n",
    "dataset_nashville.info()"
   ]
  },
  {
   "cell_type": "markdown",
   "metadata": {},
   "source": [
    "##### *3-a-i. Subtitution*"
   ]
  },
  {
   "cell_type": "code",
   "execution_count": 227,
   "metadata": {},
   "outputs": [],
   "source": [
    "# make the tools\n",
    "imputer_mean = SimpleImputer(strategy='mean')           # recomended to use for numeric data\n",
    "imputer_median = SimpleImputer(strategy='median')       # recomended to use for numeric data\n",
    "imputer_modus = SimpleImputer(strategy='most_frequent') # recomended to use for both text and numeric data"
   ]
  },
  {
   "cell_type": "code",
   "execution_count": 228,
   "metadata": {},
   "outputs": [],
   "source": [
    "# replacing the null value with mean value => only for numeric dataset (the value that could be decimal)\n",
    "dataset_nashville_used['Acreage'] = imputer_mean.fit_transform(dataset_nashville_used[['Acreage']])\n",
    "dataset_nashville_used['LandValue'] = imputer_mean.fit_transform(dataset_nashville_used[['LandValue']])\n",
    "dataset_nashville_used['BuildingValue'] = imputer_mean.fit_transform(dataset_nashville_used[['BuildingValue']])\n",
    "dataset_nashville_used['TotalValue'] = imputer_mean.fit_transform(dataset_nashville_used[['TotalValue']])\n",
    "\n",
    "# replacing the null value with median value => only for numeric dataset (the value that only be ronded value)\n",
    "dataset_nashville_used['YearBuilt'] = imputer_median.fit_transform(dataset_nashville_used[['YearBuilt']])\n",
    "dataset_nashville_used['Bedrooms'] = imputer_median.fit_transform(dataset_nashville_used[['Bedrooms']])\n",
    "dataset_nashville_used['FullBath'] = imputer_median.fit_transform(dataset_nashville_used[['FullBath']])\n",
    "dataset_nashville_used['HalfBath'] = imputer_median.fit_transform(dataset_nashville_used[['HalfBath']])"
   ]
  },
  {
   "cell_type": "code",
   "execution_count": 229,
   "metadata": {},
   "outputs": [],
   "source": [
    "dataset_nashville_used['OwnerName'] = imputer_modus.fit_transform(dataset_nashville_used[['OwnerName']])\n",
    "dataset_nashville_used['OwnerSplitAddress'] = imputer_modus.fit_transform(dataset_nashville_used[['OwnerSplitAddress']])\n",
    "dataset_nashville_used['OwnerSplitCity'] = imputer_modus.fit_transform(dataset_nashville_used[['OwnerSplitCity']])\n",
    "dataset_nashville_used['OwnerSplitState'] = imputer_modus.fit_transform(dataset_nashville_used[['OwnerSplitState']])"
   ]
  },
  {
   "cell_type": "code",
   "execution_count": 230,
   "metadata": {},
   "outputs": [
    {
     "data": {
      "text/plain": [
       "UniqueID                0\n",
       "ParcelID                0\n",
       "LandUse                 0\n",
       "SalePrice               0\n",
       "LegalReference          0\n",
       "SoldAsVacant            0\n",
       "OwnerName               0\n",
       "Acreage                 0\n",
       "LandValue               0\n",
       "BuildingValue           0\n",
       "TotalValue              0\n",
       "YearBuilt               0\n",
       "Bedrooms                0\n",
       "FullBath                0\n",
       "HalfBath                0\n",
       "SALEDATECONVERTED       0\n",
       "PropertySplitAddress    0\n",
       "PropertySplitCity       0\n",
       "OwnerSplitAddress       0\n",
       "OwnerSplitCity          0\n",
       "OwnerSplitState         0\n",
       "dtype: int64"
      ]
     },
     "execution_count": 230,
     "metadata": {},
     "output_type": "execute_result"
    }
   ],
   "source": [
    "# recheck whether the null value is still available or not\n",
    "dataset_nashville_used.isna().sum()\n",
    "\n",
    "# conclusion\n",
    "# the dataset have been cleaned from null value"
   ]
  },
  {
   "cell_type": "markdown",
   "metadata": {},
   "source": [
    "##### *3-a-ii. Deleting the null value*"
   ]
  },
  {
   "cell_type": "code",
   "execution_count": 231,
   "metadata": {},
   "outputs": [
    {
     "data": {
      "text/html": [
       "<div>\n",
       "<style scoped>\n",
       "    .dataframe tbody tr th:only-of-type {\n",
       "        vertical-align: middle;\n",
       "    }\n",
       "\n",
       "    .dataframe tbody tr th {\n",
       "        vertical-align: top;\n",
       "    }\n",
       "\n",
       "    .dataframe thead th {\n",
       "        text-align: right;\n",
       "    }\n",
       "</style>\n",
       "<table border=\"1\" class=\"dataframe\">\n",
       "  <thead>\n",
       "    <tr style=\"text-align: right;\">\n",
       "      <th></th>\n",
       "      <th>Nama</th>\n",
       "      <th>Nilai</th>\n",
       "    </tr>\n",
       "  </thead>\n",
       "  <tbody>\n",
       "    <tr>\n",
       "      <th>0</th>\n",
       "      <td>Jaka</td>\n",
       "      <td>8.0</td>\n",
       "    </tr>\n",
       "    <tr>\n",
       "      <th>1</th>\n",
       "      <td>Jiki</td>\n",
       "      <td>NaN</td>\n",
       "    </tr>\n",
       "    <tr>\n",
       "      <th>2</th>\n",
       "      <td>Juku</td>\n",
       "      <td>3.0</td>\n",
       "    </tr>\n",
       "    <tr>\n",
       "      <th>3</th>\n",
       "      <td>Jeke</td>\n",
       "      <td>NaN</td>\n",
       "    </tr>\n",
       "    <tr>\n",
       "      <th>4</th>\n",
       "      <td>Joko</td>\n",
       "      <td>2.0</td>\n",
       "    </tr>\n",
       "    <tr>\n",
       "      <th>5</th>\n",
       "      <td>Jaki</td>\n",
       "      <td>NaN</td>\n",
       "    </tr>\n",
       "    <tr>\n",
       "      <th>6</th>\n",
       "      <td>Jaku</td>\n",
       "      <td>6.0</td>\n",
       "    </tr>\n",
       "    <tr>\n",
       "      <th>7</th>\n",
       "      <td>Jake</td>\n",
       "      <td>2.0</td>\n",
       "    </tr>\n",
       "    <tr>\n",
       "      <th>8</th>\n",
       "      <td>Jako</td>\n",
       "      <td>8.0</td>\n",
       "    </tr>\n",
       "    <tr>\n",
       "      <th>9</th>\n",
       "      <td>Jiku</td>\n",
       "      <td>7.0</td>\n",
       "    </tr>\n",
       "  </tbody>\n",
       "</table>\n",
       "</div>"
      ],
      "text/plain": [
       "   Nama  Nilai\n",
       "0  Jaka    8.0\n",
       "1  Jiki    NaN\n",
       "2  Juku    3.0\n",
       "3  Jeke    NaN\n",
       "4  Joko    2.0\n",
       "5  Jaki    NaN\n",
       "6  Jaku    6.0\n",
       "7  Jake    2.0\n",
       "8  Jako    8.0\n",
       "9  Jiku    7.0"
      ]
     },
     "execution_count": 231,
     "metadata": {},
     "output_type": "execute_result"
    }
   ],
   "source": [
    "# build the dataframe\n",
    "from pickle import NONE\n",
    "\n",
    "# defining the row for dataframe using list\n",
    "nama = ['Jaka', 'Jiki', 'Juku', 'Jeke', 'Joko', 'Jaki', 'Jaku', 'Jake', 'Jako', 'Jiku', 'Jike', 'Jiko', 'Juke', 'Juko']\n",
    "nilai = [8, np.NaN, 3, np.NaN, 2, np.NaN, 6, 2, 8, 7, np.NaN, 7, 9, 8]\n",
    "\n",
    "# building the dataframe\n",
    "data_null_dell = pd.DataFrame({\n",
    "    'Nama'  : nama,\n",
    "    'Nilai' : nilai\n",
    "})\n",
    "\n",
    "data_null_dell.head(10)"
   ]
  },
  {
   "cell_type": "code",
   "execution_count": 232,
   "metadata": {},
   "outputs": [
    {
     "data": {
      "text/plain": [
       "Nama     0\n",
       "Nilai    4\n",
       "dtype: int64"
      ]
     },
     "execution_count": 232,
     "metadata": {},
     "output_type": "execute_result"
    }
   ],
   "source": [
    "# check the null value\n",
    "data_null_dell.isna().sum()"
   ]
  },
  {
   "cell_type": "code",
   "execution_count": 233,
   "metadata": {},
   "outputs": [
    {
     "name": "stdout",
     "output_type": "stream",
     "text": [
      "Nama     0\n",
      "Nilai    0\n",
      "dtype: int64\n",
      "   Nama  Nilai\n",
      "0  Jaka    8.0\n",
      "2  Juku    3.0\n",
      "4  Joko    2.0\n",
      "6  Jaku    6.0\n",
      "7  Jake    2.0\n"
     ]
    }
   ],
   "source": [
    "# droping the record that have null value\n",
    "data_null_dell.dropna(inplace=True)\n",
    "# recheck the null value\n",
    "print(data_null_dell.isna().sum(),\n",
    "      data_null_dell.head(),\n",
    "      sep='\\n')"
   ]
  },
  {
   "cell_type": "markdown",
   "metadata": {},
   "source": [
    "#### 3-b. Duplicated Value"
   ]
  },
  {
   "cell_type": "code",
   "execution_count": 234,
   "metadata": {},
   "outputs": [
    {
     "data": {
      "text/plain": [
       "1"
      ]
     },
     "execution_count": 234,
     "metadata": {},
     "output_type": "execute_result"
    }
   ],
   "source": [
    "# copy the main dataset into new dataframe\n",
    "dataset_iris_duplicated_use = dataset_iris.copy()\n",
    "\n",
    "# checking the duplicated value\n",
    "dataset_iris_duplicated_use.duplicated().sum()\n",
    "\n",
    "# conclusion => the dataset have 1 duplicated row"
   ]
  },
  {
   "cell_type": "code",
   "execution_count": 235,
   "metadata": {},
   "outputs": [
    {
     "data": {
      "text/plain": [
       "0"
      ]
     },
     "execution_count": 235,
     "metadata": {},
     "output_type": "execute_result"
    }
   ],
   "source": [
    "# deleting the duplicated row\n",
    "dataset_iris_duplicated_use.drop_duplicates(inplace=True)\n",
    "\n",
    "# recheking the duplicated value\n",
    "dataset_iris_duplicated_use.duplicated().sum()\n",
    "\n",
    "# the dataset have no duplicated row"
   ]
  },
  {
   "cell_type": "markdown",
   "metadata": {},
   "source": [
    "#### 3-c. Fixing the right format"
   ]
  },
  {
   "cell_type": "code",
   "execution_count": 236,
   "metadata": {},
   "outputs": [
    {
     "data": {
      "text/plain": [
       "sepal_length    float64\n",
       "sepal_width     float64\n",
       "petal_length    float64\n",
       "petal_width     float64\n",
       "species          object\n",
       "dtype: object"
      ]
     },
     "execution_count": 236,
     "metadata": {},
     "output_type": "execute_result"
    }
   ],
   "source": [
    "# check the dataset types\n",
    "dataset_iris_duplicated_use.dtypes"
   ]
  },
  {
   "cell_type": "code",
   "execution_count": 237,
   "metadata": {},
   "outputs": [
    {
     "data": {
      "text/plain": [
       "dtype('float32')"
      ]
     },
     "execution_count": 237,
     "metadata": {},
     "output_type": "execute_result"
    }
   ],
   "source": [
    "# float64 to float32\n",
    "dataset_iris_duplicated_use['sepal_length'].astype('float32').dtypes"
   ]
  },
  {
   "cell_type": "markdown",
   "metadata": {},
   "source": [
    "### **4. Encoding**"
   ]
  },
  {
   "cell_type": "code",
   "execution_count": 238,
   "metadata": {},
   "outputs": [],
   "source": [
    "# importing the used tools for encoding\n",
    "from sklearn.preprocessing import OrdinalEncoder\n",
    "from sklearn.preprocessing import OneHotEncoder"
   ]
  },
  {
   "cell_type": "code",
   "execution_count": 239,
   "metadata": {},
   "outputs": [],
   "source": [
    "# make a new dataframe from iris dataset\n",
    "dataset_ordinal_encoding = dataset_iris.copy()\n",
    "dataset_oneHot_encoding = dataset_iris.copy()\n"
   ]
  },
  {
   "cell_type": "code",
   "execution_count": 240,
   "metadata": {},
   "outputs": [
    {
     "data": {
      "text/html": [
       "<div>\n",
       "<style scoped>\n",
       "    .dataframe tbody tr th:only-of-type {\n",
       "        vertical-align: middle;\n",
       "    }\n",
       "\n",
       "    .dataframe tbody tr th {\n",
       "        vertical-align: top;\n",
       "    }\n",
       "\n",
       "    .dataframe thead th {\n",
       "        text-align: right;\n",
       "    }\n",
       "</style>\n",
       "<table border=\"1\" class=\"dataframe\">\n",
       "  <thead>\n",
       "    <tr style=\"text-align: right;\">\n",
       "      <th></th>\n",
       "      <th>sepal_length</th>\n",
       "      <th>sepal_width</th>\n",
       "      <th>petal_length</th>\n",
       "      <th>petal_width</th>\n",
       "      <th>species</th>\n",
       "    </tr>\n",
       "  </thead>\n",
       "  <tbody>\n",
       "    <tr>\n",
       "      <th>0</th>\n",
       "      <td>5.1</td>\n",
       "      <td>3.5</td>\n",
       "      <td>1.4</td>\n",
       "      <td>0.2</td>\n",
       "      <td>setosa</td>\n",
       "    </tr>\n",
       "    <tr>\n",
       "      <th>1</th>\n",
       "      <td>4.9</td>\n",
       "      <td>3.0</td>\n",
       "      <td>1.4</td>\n",
       "      <td>0.2</td>\n",
       "      <td>setosa</td>\n",
       "    </tr>\n",
       "    <tr>\n",
       "      <th>2</th>\n",
       "      <td>4.7</td>\n",
       "      <td>3.2</td>\n",
       "      <td>1.3</td>\n",
       "      <td>0.2</td>\n",
       "      <td>setosa</td>\n",
       "    </tr>\n",
       "    <tr>\n",
       "      <th>3</th>\n",
       "      <td>4.6</td>\n",
       "      <td>3.1</td>\n",
       "      <td>1.5</td>\n",
       "      <td>0.2</td>\n",
       "      <td>setosa</td>\n",
       "    </tr>\n",
       "    <tr>\n",
       "      <th>4</th>\n",
       "      <td>5.0</td>\n",
       "      <td>3.6</td>\n",
       "      <td>1.4</td>\n",
       "      <td>0.2</td>\n",
       "      <td>setosa</td>\n",
       "    </tr>\n",
       "  </tbody>\n",
       "</table>\n",
       "</div>"
      ],
      "text/plain": [
       "   sepal_length  sepal_width  petal_length  petal_width species\n",
       "0           5.1          3.5           1.4          0.2  setosa\n",
       "1           4.9          3.0           1.4          0.2  setosa\n",
       "2           4.7          3.2           1.3          0.2  setosa\n",
       "3           4.6          3.1           1.5          0.2  setosa\n",
       "4           5.0          3.6           1.4          0.2  setosa"
      ]
     },
     "execution_count": 240,
     "metadata": {},
     "output_type": "execute_result"
    }
   ],
   "source": [
    "dataset_iris.head(5)\n",
    "\n",
    "# note => species attribute is label"
   ]
  },
  {
   "cell_type": "markdown",
   "metadata": {},
   "source": [
    "#### 4-a Ordinal Encoding"
   ]
  },
  {
   "cell_type": "code",
   "execution_count": 241,
   "metadata": {},
   "outputs": [
    {
     "data": {
      "text/html": [
       "<div>\n",
       "<style scoped>\n",
       "    .dataframe tbody tr th:only-of-type {\n",
       "        vertical-align: middle;\n",
       "    }\n",
       "\n",
       "    .dataframe tbody tr th {\n",
       "        vertical-align: top;\n",
       "    }\n",
       "\n",
       "    .dataframe thead th {\n",
       "        text-align: right;\n",
       "    }\n",
       "</style>\n",
       "<table border=\"1\" class=\"dataframe\">\n",
       "  <thead>\n",
       "    <tr style=\"text-align: right;\">\n",
       "      <th></th>\n",
       "      <th>sepal_length</th>\n",
       "      <th>sepal_width</th>\n",
       "      <th>petal_length</th>\n",
       "      <th>petal_width</th>\n",
       "      <th>species</th>\n",
       "    </tr>\n",
       "  </thead>\n",
       "  <tbody>\n",
       "    <tr>\n",
       "      <th>0</th>\n",
       "      <td>5.1</td>\n",
       "      <td>3.5</td>\n",
       "      <td>1.4</td>\n",
       "      <td>0.2</td>\n",
       "      <td>0</td>\n",
       "    </tr>\n",
       "    <tr>\n",
       "      <th>1</th>\n",
       "      <td>4.9</td>\n",
       "      <td>3.0</td>\n",
       "      <td>1.4</td>\n",
       "      <td>0.2</td>\n",
       "      <td>0</td>\n",
       "    </tr>\n",
       "    <tr>\n",
       "      <th>2</th>\n",
       "      <td>4.7</td>\n",
       "      <td>3.2</td>\n",
       "      <td>1.3</td>\n",
       "      <td>0.2</td>\n",
       "      <td>0</td>\n",
       "    </tr>\n",
       "    <tr>\n",
       "      <th>3</th>\n",
       "      <td>4.6</td>\n",
       "      <td>3.1</td>\n",
       "      <td>1.5</td>\n",
       "      <td>0.2</td>\n",
       "      <td>0</td>\n",
       "    </tr>\n",
       "    <tr>\n",
       "      <th>4</th>\n",
       "      <td>5.0</td>\n",
       "      <td>3.6</td>\n",
       "      <td>1.4</td>\n",
       "      <td>0.2</td>\n",
       "      <td>0</td>\n",
       "    </tr>\n",
       "  </tbody>\n",
       "</table>\n",
       "</div>"
      ],
      "text/plain": [
       "   sepal_length  sepal_width  petal_length  petal_width  species\n",
       "0           5.1          3.5           1.4          0.2        0\n",
       "1           4.9          3.0           1.4          0.2        0\n",
       "2           4.7          3.2           1.3          0.2        0\n",
       "3           4.6          3.1           1.5          0.2        0\n",
       "4           5.0          3.6           1.4          0.2        0"
      ]
     },
     "execution_count": 241,
     "metadata": {},
     "output_type": "execute_result"
    }
   ],
   "source": [
    "# make the used tools\n",
    "encoder_ordinal = OrdinalEncoder()\n",
    "\n",
    "# encode the label attribute from categorical into int\n",
    "dataset_ordinal_encoding['species'] = encoder_ordinal.fit_transform(dataset_ordinal_encoding[['species']]).astype('int64')\n",
    "\n",
    "# show the dataset\n",
    "dataset_ordinal_encoding.head(5)"
   ]
  },
  {
   "cell_type": "code",
   "execution_count": 242,
   "metadata": {},
   "outputs": [
    {
     "name": "stdout",
     "output_type": "stream",
     "text": [
      "categorical values from iris dataset: ['setosa' 'versicolor' 'virginica']\n",
      "numeric values from encoded dataset: [0 1 2]\n"
     ]
    }
   ],
   "source": [
    "# check the previous label unique values\n",
    "print(f'categorical values from iris dataset: {dataset_iris[\"species\"].unique()}')\n",
    "\n",
    "# check the encoded new label unique values\n",
    "print(f'numeric values from encoded dataset: {dataset_ordinal_encoding[\"species\"].unique()}')"
   ]
  },
  {
   "cell_type": "markdown",
   "metadata": {},
   "source": [
    "#### 4-b One Hot Encoding"
   ]
  },
  {
   "cell_type": "markdown",
   "metadata": {},
   "source": [
    "##### *4-b-i. Using sklearn library*"
   ]
  },
  {
   "cell_type": "code",
   "execution_count": 243,
   "metadata": {},
   "outputs": [
    {
     "data": {
      "text/html": [
       "<div>\n",
       "<style scoped>\n",
       "    .dataframe tbody tr th:only-of-type {\n",
       "        vertical-align: middle;\n",
       "    }\n",
       "\n",
       "    .dataframe tbody tr th {\n",
       "        vertical-align: top;\n",
       "    }\n",
       "\n",
       "    .dataframe thead th {\n",
       "        text-align: right;\n",
       "    }\n",
       "</style>\n",
       "<table border=\"1\" class=\"dataframe\">\n",
       "  <thead>\n",
       "    <tr style=\"text-align: right;\">\n",
       "      <th></th>\n",
       "      <th>sepal_length</th>\n",
       "      <th>sepal_width</th>\n",
       "      <th>petal_length</th>\n",
       "      <th>petal_width</th>\n",
       "      <th>setosa</th>\n",
       "      <th>versicolor</th>\n",
       "      <th>virginica</th>\n",
       "    </tr>\n",
       "  </thead>\n",
       "  <tbody>\n",
       "    <tr>\n",
       "      <th>85</th>\n",
       "      <td>6.0</td>\n",
       "      <td>3.4</td>\n",
       "      <td>4.5</td>\n",
       "      <td>1.6</td>\n",
       "      <td>0</td>\n",
       "      <td>1</td>\n",
       "      <td>0</td>\n",
       "    </tr>\n",
       "    <tr>\n",
       "      <th>86</th>\n",
       "      <td>6.7</td>\n",
       "      <td>3.1</td>\n",
       "      <td>4.7</td>\n",
       "      <td>1.5</td>\n",
       "      <td>0</td>\n",
       "      <td>1</td>\n",
       "      <td>0</td>\n",
       "    </tr>\n",
       "    <tr>\n",
       "      <th>87</th>\n",
       "      <td>6.3</td>\n",
       "      <td>2.3</td>\n",
       "      <td>4.4</td>\n",
       "      <td>1.3</td>\n",
       "      <td>0</td>\n",
       "      <td>1</td>\n",
       "      <td>0</td>\n",
       "    </tr>\n",
       "    <tr>\n",
       "      <th>88</th>\n",
       "      <td>5.6</td>\n",
       "      <td>3.0</td>\n",
       "      <td>4.1</td>\n",
       "      <td>1.3</td>\n",
       "      <td>0</td>\n",
       "      <td>1</td>\n",
       "      <td>0</td>\n",
       "    </tr>\n",
       "    <tr>\n",
       "      <th>89</th>\n",
       "      <td>5.5</td>\n",
       "      <td>2.5</td>\n",
       "      <td>4.0</td>\n",
       "      <td>1.3</td>\n",
       "      <td>0</td>\n",
       "      <td>1</td>\n",
       "      <td>0</td>\n",
       "    </tr>\n",
       "    <tr>\n",
       "      <th>90</th>\n",
       "      <td>5.5</td>\n",
       "      <td>2.6</td>\n",
       "      <td>4.4</td>\n",
       "      <td>1.2</td>\n",
       "      <td>0</td>\n",
       "      <td>1</td>\n",
       "      <td>0</td>\n",
       "    </tr>\n",
       "    <tr>\n",
       "      <th>91</th>\n",
       "      <td>6.1</td>\n",
       "      <td>3.0</td>\n",
       "      <td>4.6</td>\n",
       "      <td>1.4</td>\n",
       "      <td>0</td>\n",
       "      <td>1</td>\n",
       "      <td>0</td>\n",
       "    </tr>\n",
       "    <tr>\n",
       "      <th>92</th>\n",
       "      <td>5.8</td>\n",
       "      <td>2.6</td>\n",
       "      <td>4.0</td>\n",
       "      <td>1.2</td>\n",
       "      <td>0</td>\n",
       "      <td>1</td>\n",
       "      <td>0</td>\n",
       "    </tr>\n",
       "    <tr>\n",
       "      <th>93</th>\n",
       "      <td>5.0</td>\n",
       "      <td>2.3</td>\n",
       "      <td>3.3</td>\n",
       "      <td>1.0</td>\n",
       "      <td>0</td>\n",
       "      <td>1</td>\n",
       "      <td>0</td>\n",
       "    </tr>\n",
       "    <tr>\n",
       "      <th>94</th>\n",
       "      <td>5.6</td>\n",
       "      <td>2.7</td>\n",
       "      <td>4.2</td>\n",
       "      <td>1.3</td>\n",
       "      <td>0</td>\n",
       "      <td>1</td>\n",
       "      <td>0</td>\n",
       "    </tr>\n",
       "    <tr>\n",
       "      <th>95</th>\n",
       "      <td>5.7</td>\n",
       "      <td>3.0</td>\n",
       "      <td>4.2</td>\n",
       "      <td>1.2</td>\n",
       "      <td>0</td>\n",
       "      <td>1</td>\n",
       "      <td>0</td>\n",
       "    </tr>\n",
       "    <tr>\n",
       "      <th>96</th>\n",
       "      <td>5.7</td>\n",
       "      <td>2.9</td>\n",
       "      <td>4.2</td>\n",
       "      <td>1.3</td>\n",
       "      <td>0</td>\n",
       "      <td>1</td>\n",
       "      <td>0</td>\n",
       "    </tr>\n",
       "    <tr>\n",
       "      <th>97</th>\n",
       "      <td>6.2</td>\n",
       "      <td>2.9</td>\n",
       "      <td>4.3</td>\n",
       "      <td>1.3</td>\n",
       "      <td>0</td>\n",
       "      <td>1</td>\n",
       "      <td>0</td>\n",
       "    </tr>\n",
       "    <tr>\n",
       "      <th>98</th>\n",
       "      <td>5.1</td>\n",
       "      <td>2.5</td>\n",
       "      <td>3.0</td>\n",
       "      <td>1.1</td>\n",
       "      <td>0</td>\n",
       "      <td>1</td>\n",
       "      <td>0</td>\n",
       "    </tr>\n",
       "    <tr>\n",
       "      <th>99</th>\n",
       "      <td>5.7</td>\n",
       "      <td>2.8</td>\n",
       "      <td>4.1</td>\n",
       "      <td>1.3</td>\n",
       "      <td>0</td>\n",
       "      <td>1</td>\n",
       "      <td>0</td>\n",
       "    </tr>\n",
       "  </tbody>\n",
       "</table>\n",
       "</div>"
      ],
      "text/plain": [
       "    sepal_length  sepal_width  petal_length  petal_width  setosa  versicolor  \\\n",
       "85           6.0          3.4           4.5          1.6       0           1   \n",
       "86           6.7          3.1           4.7          1.5       0           1   \n",
       "87           6.3          2.3           4.4          1.3       0           1   \n",
       "88           5.6          3.0           4.1          1.3       0           1   \n",
       "89           5.5          2.5           4.0          1.3       0           1   \n",
       "90           5.5          2.6           4.4          1.2       0           1   \n",
       "91           6.1          3.0           4.6          1.4       0           1   \n",
       "92           5.8          2.6           4.0          1.2       0           1   \n",
       "93           5.0          2.3           3.3          1.0       0           1   \n",
       "94           5.6          2.7           4.2          1.3       0           1   \n",
       "95           5.7          3.0           4.2          1.2       0           1   \n",
       "96           5.7          2.9           4.2          1.3       0           1   \n",
       "97           6.2          2.9           4.3          1.3       0           1   \n",
       "98           5.1          2.5           3.0          1.1       0           1   \n",
       "99           5.7          2.8           4.1          1.3       0           1   \n",
       "\n",
       "    virginica  \n",
       "85          0  \n",
       "86          0  \n",
       "87          0  \n",
       "88          0  \n",
       "89          0  \n",
       "90          0  \n",
       "91          0  \n",
       "92          0  \n",
       "93          0  \n",
       "94          0  \n",
       "95          0  \n",
       "96          0  \n",
       "97          0  \n",
       "98          0  \n",
       "99          0  "
      ]
     },
     "execution_count": 243,
     "metadata": {},
     "output_type": "execute_result"
    }
   ],
   "source": [
    "# get the new dataframe\n",
    "dataset_oneHot_encoding1 = dataset_oneHot_encoding.copy()\n",
    "\n",
    "# make the used tools\n",
    "encoder_oneHot = OneHotEncoder(sparse=False)\n",
    "\n",
    "# encode the label attribute from categorical into binary\n",
    "temp_dataset = encoder_oneHot.fit_transform(dataset_oneHot_encoding1[['species']]).astype('int32')\n",
    "\n",
    "# reformat the dataset into dataframe\n",
    "temp_dataset = pd.DataFrame(temp_dataset)\n",
    "\n",
    "# drop the previous label attribute\n",
    "dataset_oneHot_encoding1.drop('species', axis=1, inplace=True)\n",
    "\n",
    "# add the new label attribute\n",
    "dataset_oneHot_encoding1 = dataset_oneHot_encoding1.join(temp_dataset)\n",
    "\n",
    "# rename the label attribute name\n",
    "dataset_oneHot_encoding1.rename(columns={0:'setosa', 1:'versicolor', 2:'virginica'}, inplace=True)\n",
    "\n",
    "# show the dataset record\n",
    "dataset_oneHot_encoding1[85:100]"
   ]
  },
  {
   "cell_type": "markdown",
   "metadata": {},
   "source": [
    "##### *4-b-ii. Using pandas library*"
   ]
  },
  {
   "cell_type": "code",
   "execution_count": 244,
   "metadata": {},
   "outputs": [
    {
     "data": {
      "text/html": [
       "<div>\n",
       "<style scoped>\n",
       "    .dataframe tbody tr th:only-of-type {\n",
       "        vertical-align: middle;\n",
       "    }\n",
       "\n",
       "    .dataframe tbody tr th {\n",
       "        vertical-align: top;\n",
       "    }\n",
       "\n",
       "    .dataframe thead th {\n",
       "        text-align: right;\n",
       "    }\n",
       "</style>\n",
       "<table border=\"1\" class=\"dataframe\">\n",
       "  <thead>\n",
       "    <tr style=\"text-align: right;\">\n",
       "      <th></th>\n",
       "      <th>sepal_length</th>\n",
       "      <th>sepal_width</th>\n",
       "      <th>petal_length</th>\n",
       "      <th>petal_width</th>\n",
       "      <th>species_setosa</th>\n",
       "      <th>species_versicolor</th>\n",
       "      <th>species_virginica</th>\n",
       "    </tr>\n",
       "  </thead>\n",
       "  <tbody>\n",
       "    <tr>\n",
       "      <th>0</th>\n",
       "      <td>5.1</td>\n",
       "      <td>3.5</td>\n",
       "      <td>1.4</td>\n",
       "      <td>0.2</td>\n",
       "      <td>1</td>\n",
       "      <td>0</td>\n",
       "      <td>0</td>\n",
       "    </tr>\n",
       "    <tr>\n",
       "      <th>1</th>\n",
       "      <td>4.9</td>\n",
       "      <td>3.0</td>\n",
       "      <td>1.4</td>\n",
       "      <td>0.2</td>\n",
       "      <td>1</td>\n",
       "      <td>0</td>\n",
       "      <td>0</td>\n",
       "    </tr>\n",
       "    <tr>\n",
       "      <th>2</th>\n",
       "      <td>4.7</td>\n",
       "      <td>3.2</td>\n",
       "      <td>1.3</td>\n",
       "      <td>0.2</td>\n",
       "      <td>1</td>\n",
       "      <td>0</td>\n",
       "      <td>0</td>\n",
       "    </tr>\n",
       "    <tr>\n",
       "      <th>3</th>\n",
       "      <td>4.6</td>\n",
       "      <td>3.1</td>\n",
       "      <td>1.5</td>\n",
       "      <td>0.2</td>\n",
       "      <td>1</td>\n",
       "      <td>0</td>\n",
       "      <td>0</td>\n",
       "    </tr>\n",
       "    <tr>\n",
       "      <th>4</th>\n",
       "      <td>5.0</td>\n",
       "      <td>3.6</td>\n",
       "      <td>1.4</td>\n",
       "      <td>0.2</td>\n",
       "      <td>1</td>\n",
       "      <td>0</td>\n",
       "      <td>0</td>\n",
       "    </tr>\n",
       "  </tbody>\n",
       "</table>\n",
       "</div>"
      ],
      "text/plain": [
       "   sepal_length  sepal_width  petal_length  petal_width  species_setosa  \\\n",
       "0           5.1          3.5           1.4          0.2               1   \n",
       "1           4.9          3.0           1.4          0.2               1   \n",
       "2           4.7          3.2           1.3          0.2               1   \n",
       "3           4.6          3.1           1.5          0.2               1   \n",
       "4           5.0          3.6           1.4          0.2               1   \n",
       "\n",
       "   species_versicolor  species_virginica  \n",
       "0                   0                  0  \n",
       "1                   0                  0  \n",
       "2                   0                  0  \n",
       "3                   0                  0  \n",
       "4                   0                  0  "
      ]
     },
     "execution_count": 244,
     "metadata": {},
     "output_type": "execute_result"
    }
   ],
   "source": [
    "# get the new dataframe\n",
    "dataset_oneHot_encoding2 = dataset_oneHot_encoding.copy()\n",
    "\n",
    "# encode the label attribute from categorical into binary\n",
    "temp_dataset = pd.get_dummies(dataset_oneHot_encoding2[['species']])\n",
    "\n",
    "# reformat the dataset into dataframe\n",
    "temp_dataset = pd.DataFrame(temp_dataset)\n",
    "\n",
    "# drop the previous label attribute\n",
    "dataset_oneHot_encoding2.drop('species', axis=1, inplace=True)\n",
    "\n",
    "# add the new label attribute\n",
    "dataset_oneHot_encoding2 = dataset_oneHot_encoding2.join(temp_dataset)\n",
    "\n",
    "# show the dataset record\n",
    "dataset_oneHot_encoding2.head(5)"
   ]
  }
 ],
 "metadata": {
  "kernelspec": {
   "display_name": "Python 3.10.7 64-bit",
   "language": "python",
   "name": "python3"
  },
  "language_info": {
   "codemirror_mode": {
    "name": "ipython",
    "version": 3
   },
   "file_extension": ".py",
   "mimetype": "text/x-python",
   "name": "python",
   "nbconvert_exporter": "python",
   "pygments_lexer": "ipython3",
   "version": "3.10.7"
  },
  "vscode": {
   "interpreter": {
    "hash": "732cc6cbfc5b39190a0bebc9fc045830b80fea9bbdf5357c8a13e3d604bac2e3"
   }
  }
 },
 "nbformat": 4,
 "nbformat_minor": 2
}
