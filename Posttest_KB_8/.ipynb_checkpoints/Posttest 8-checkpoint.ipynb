{
 "cells": [
  {
   "cell_type": "markdown",
   "id": "850edbb4",
   "metadata": {},
   "source": [
    "# POSTTEST 8\n",
    "## Deep Learning"
   ]
  },
  {
   "cell_type": "markdown",
   "id": "8a690d00",
   "metadata": {},
   "source": [
    "### Library"
   ]
  },
  {
   "cell_type": "code",
   "execution_count": 39,
   "id": "c314d152",
   "metadata": {},
   "outputs": [],
   "source": [
    "import tensorflow as tf\n",
    "import matplotlib.pyplot as plt\n",
    "import tensorflow.keras.datasets as tfds\n",
    "import numpy as np"
   ]
  },
  {
   "cell_type": "markdown",
   "id": "c50ccd06",
   "metadata": {},
   "source": [
    "### Load data set dan membagi data nya menjadi 2"
   ]
  },
  {
   "cell_type": "code",
   "execution_count": 40,
   "id": "785bf68d",
   "metadata": {},
   "outputs": [
    {
     "name": "stdout",
     "output_type": "stream",
     "text": [
      "panjang x train : 60000 panjang y train : 60000 panjang x test : 10000 panjang y test : 10000\n"
     ]
    }
   ],
   "source": [
    "(x_train,y_train),(x_test,y_test) = tf.keras.datasets.fashion_mnist.load_data()\n",
    "\n",
    "print(f'panjang x train : {len(x_train)}',\n",
    "f'panjang y train : {len(y_train)}',\n",
    "f'panjang x test : {len(x_test)}',\n",
    "f'panjang y test : {len(y_test)}')"
   ]
  },
  {
   "cell_type": "markdown",
   "id": "5c251605",
   "metadata": {},
   "source": [
    "### Encoding label dengan menggunakan library keras"
   ]
  },
  {
   "cell_type": "code",
   "execution_count": 41,
   "id": "bd814450",
   "metadata": {},
   "outputs": [],
   "source": [
    "num_class = len(np.unique(y_train))\n",
    "y_train = tf.keras.utils.to_categorical(y_train, num_class)\n",
    "y_test = tf.keras.utils.to_categorical(y_test, num_class)"
   ]
  },
  {
   "cell_type": "markdown",
   "id": "aefe389c",
   "metadata": {},
   "source": [
    "### Melihat sampel gambar"
   ]
  },
  {
   "cell_type": "code",
   "execution_count": 42,
   "id": "a85f008e",
   "metadata": {},
   "outputs": [
    {
     "data": {
      "text/plain": [
       "<matplotlib.image.AxesImage at 0x2468f9b0d60>"
      ]
     },
     "execution_count": 42,
     "metadata": {},
     "output_type": "execute_result"
    },
    {
     "data": {
      "image/png": "[encoded data removed]",
      "text/plain": [
       "<Figure size 640x480 with 1 Axes>"
      ]
     },
     "metadata": {},
     "output_type": "display_data"
    }
   ],
   "source": [
    "plt.imshow(x_train[69])"
   ]
  },
  {
   "cell_type": "markdown",
   "id": "e8db7d86",
   "metadata": {},
   "source": [
    "### Konversi gambar menjadi 784 x 1 dan normalisasikan nilai pixel"
   ]
  },
  {
   "cell_type": "code",
   "execution_count": 43,
   "id": "3011e34a",
   "metadata": {},
   "outputs": [],
   "source": [
    "x_train = x_train.reshape(60000, 784)\n",
    "x_test = x_test.reshape(10000, 784)"
   ]
  },
  {
   "cell_type": "code",
   "execution_count": 44,
   "id": "dec89724",
   "metadata": {},
   "outputs": [],
   "source": [
    "x_train = x_train.astype('float32')/255\n",
    "x_test = x_test.astype('float32')/255"
   ]
  },
  {
   "cell_type": "markdown",
   "id": "7ab255f5",
   "metadata": {},
   "source": [
    "### Membuat sequential mode menggunakan 1 dense layer dengan fungsi aktivasi relu dan softmax"
   ]
  },
  {
   "cell_type": "code",
   "execution_count": 49,
   "id": "e739fc7a",
   "metadata": {},
   "outputs": [
    {
     "name": "stdout",
     "output_type": "stream",
     "text": [
      "Model: \"sequential_5\"\n",
      "_________________________________________________________________\n",
      " Layer (type)                Output Shape              Param #   \n",
      "=================================================================\n",
      " dense_16 (Dense)            (None, 32)                25120     \n",
      "                                                                 \n",
      " dense_17 (Dense)            (None, 10)                330       \n",
      "                                                                 \n",
      "=================================================================\n",
      "Total params: 25,450\n",
      "Trainable params: 25,450\n",
      "Non-trainable params: 0\n",
      "_________________________________________________________________\n"
     ]
    }
   ],
   "source": [
    "model = tf.keras.Sequential([\n",
    "    tf.keras.layers.Dense(32, activation='relu',input_dim=784),\n",
    "    tf.keras.layers.Dense(num_class, activation='softmax')])\n",
    "model.summary()"
   ]
  },
  {
   "cell_type": "markdown",
   "id": "0c492074",
   "metadata": {},
   "source": [
    "### Compile model menggunakan optimizer adam,fungsi loss categorical crossentropy dan metrics accurary"
   ]
  },
  {
   "cell_type": "code",
   "execution_count": 51,
   "id": "2e666be9",
   "metadata": {},
   "outputs": [],
   "source": [
    "model.compile(\n",
    "    optimizer=tf.keras.optimizers.Adam(),\n",
    "    loss = tf.keras.losses.categorical_crossentropy,\n",
    "    metrics = ['accuracy']\n",
    ")"
   ]
  },
  {
   "cell_type": "markdown",
   "id": "90a47852",
   "metadata": {},
   "source": [
    "### Training model dengan epoch 10 dan steps 1000"
   ]
  },
  {
   "cell_type": "code",
   "execution_count": 52,
   "id": "e50a0b22",
   "metadata": {},
   "outputs": [
    {
     "name": "stdout",
     "output_type": "stream",
     "text": [
      "Epoch 1/10\n",
      "1000/1000 [==============================] - 4s 4ms/step - loss: 0.5857 - accuracy: 0.8007 - val_loss: 0.4923 - val_accuracy: 0.8278\n",
      "Epoch 2/10\n",
      "1000/1000 [==============================] - 4s 4ms/step - loss: 0.4343 - accuracy: 0.8482 - val_loss: 0.4429 - val_accuracy: 0.8417\n",
      "Epoch 3/10\n",
      "1000/1000 [==============================] - 4s 4ms/step - loss: 0.4029 - accuracy: 0.8577 - val_loss: 0.4384 - val_accuracy: 0.8446\n",
      "Epoch 4/10\n",
      "1000/1000 [==============================] - 4s 4ms/step - loss: 0.3814 - accuracy: 0.8640 - val_loss: 0.4158 - val_accuracy: 0.8557\n",
      "Epoch 5/10\n",
      "1000/1000 [==============================] - 4s 4ms/step - loss: 0.3674 - accuracy: 0.8686 - val_loss: 0.4170 - val_accuracy: 0.8522\n",
      "Epoch 6/10\n",
      "1000/1000 [==============================] - 4s 4ms/step - loss: 0.3551 - accuracy: 0.8734 - val_loss: 0.4047 - val_accuracy: 0.8563\n",
      "Epoch 7/10\n",
      "1000/1000 [==============================] - 4s 4ms/step - loss: 0.3459 - accuracy: 0.8770 - val_loss: 0.3886 - val_accuracy: 0.8666\n",
      "Epoch 8/10\n",
      "1000/1000 [==============================] - 4s 4ms/step - loss: 0.3369 - accuracy: 0.8794 - val_loss: 0.3909 - val_accuracy: 0.8618\n",
      "Epoch 9/10\n",
      "1000/1000 [==============================] - 4s 4ms/step - loss: 0.3284 - accuracy: 0.8822 - val_loss: 0.3945 - val_accuracy: 0.8602\n",
      "Epoch 10/10\n",
      "1000/1000 [==============================] - 4s 4ms/step - loss: 0.3212 - accuracy: 0.8841 - val_loss: 0.3789 - val_accuracy: 0.8678\n"
     ]
    }
   ],
   "source": [
    "history = model.fit(\n",
    "    x = x_train, y =y_train,\n",
    "    validation_data=(x_test,y_test),\n",
    "    epochs=10,\n",
    "    steps_per_epoch=1000,\n",
    "    verbose=1\n",
    ")"
   ]
  },
  {
   "cell_type": "markdown",
   "id": "c62e8ec0",
   "metadata": {},
   "source": [
    "### Melihat akurasi model"
   ]
  },
  {
   "cell_type": "code",
   "execution_count": 53,
   "id": "9d27a2d4",
   "metadata": {},
   "outputs": [
    {
     "name": "stdout",
     "output_type": "stream",
     "text": [
      "Test loss: 0.3789329528808594\n",
      "Test accuracy: 0.8677999973297119\n"
     ]
    }
   ],
   "source": [
    "score = model.evaluate(x_test, y_test, verbose=0)\n",
    "print('Test loss:', score[0])\n",
    "print('Test accuracy:', score[1])"
   ]
  },
  {
   "cell_type": "code",
   "execution_count": null,
   "id": "f49ea221",
   "metadata": {},
   "outputs": [],
   "source": []
  }
 ],
 "metadata": {
  "kernelspec": {
   "display_name": "Python 3 (ipykernel)",
   "language": "python",
   "name": "python3"
  },
  "language_info": {
   "codemirror_mode": {
    "name": "ipython",
    "version": 3
   },
   "file_extension": ".py",
   "mimetype": "text/x-python",
   "name": "python",
   "nbconvert_exporter": "python",
   "pygments_lexer": "ipython3",
   "version": "3.10.7"
  }
 },
 "nbformat": 4,
 "nbformat_minor": 5
}
