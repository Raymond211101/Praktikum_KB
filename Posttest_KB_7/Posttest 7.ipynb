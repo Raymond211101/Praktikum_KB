{
 "cells": [
  {
   "cell_type": "markdown",
   "id": "c1dad8d2",
   "metadata": {},
   "source": [
    "# POSTTEST 7\n",
    "## Pengenalan Tensorflow"
   ]
  },
  {
   "cell_type": "markdown",
   "id": "cebf7b48",
   "metadata": {},
   "source": [
    "### Library"
   ]
  },
  {
   "cell_type": "code",
   "execution_count": 39,
   "id": "85852cf6",
   "metadata": {},
   "outputs": [],
   "source": [
    "import tensorflow as tf"
   ]
  },
  {
   "cell_type": "markdown",
   "id": "257009a3",
   "metadata": {},
   "source": [
    "#### Buatlah sebuah tensor dengan shape(5,5) dengan nilai random yang disimpan dalam variable random_tensor"
   ]
  },
  {
   "cell_type": "code",
   "execution_count": 40,
   "id": "578fcae9",
   "metadata": {},
   "outputs": [
    {
     "data": {
      "text/plain": [
       "<tf.Tensor: shape=(5, 5), dtype=float32, numpy=\n",
       "array([[-1.8782151 , -1.136544  , -0.21195087, -0.29506448, -0.56027335],\n",
       "       [ 1.0904956 ,  1.5580066 ,  0.4530346 ,  0.18423583,  0.02407954],\n",
       "       [ 0.51235056,  1.0819257 ,  0.04912369,  0.6809474 ,  1.1356817 ],\n",
       "       [-0.80516595, -0.10328689,  2.2049477 , -0.5318309 ,  0.2630845 ],\n",
       "       [-1.1128261 , -0.59706914,  1.9051647 , -0.4894348 ,  0.08562752]],\n",
       "      dtype=float32)>"
      ]
     },
     "execution_count": 40,
     "metadata": {},
     "output_type": "execute_result"
    }
   ],
   "source": [
    "random_tensor = tf.random.normal([5,5])\n",
    "random_tensor"
   ]
  },
  {
   "cell_type": "markdown",
   "id": "4c9785ce",
   "metadata": {},
   "source": [
    "#### Buatlah sebuah tensor dengan shape(5,5) dari sebuah list dengan nilai bilangan prima dalam variable prime_tensor"
   ]
  },
  {
   "cell_type": "code",
   "execution_count": 41,
   "id": "d541d76a",
   "metadata": {},
   "outputs": [
    {
     "name": "stdout",
     "output_type": "stream",
     "text": [
      "tf.Tensor(\n",
      "[[ 2.  3.  5.  7. 11.]\n",
      " [13. 17. 19. 23. 29.]\n",
      " [31. 37. 41. 43. 47.]\n",
      " [53. 59. 61. 67. 71.]\n",
      " [73. 79. 83. 89. 97.]], shape=(5, 5), dtype=float32)\n"
     ]
    }
   ],
   "source": [
    "list_prime =[[2,3,5,7,11],[13,17,19,23,29],[31,37,41,43,47],[53,59,61,67,71],[73,79,83,89,97]]\n",
    "prime_tensor = tf.convert_to_tensor(list_prime,dtype=tf.float32)\n",
    "print(prime_tensor)"
   ]
  },
  {
   "cell_type": "markdown",
   "id": "d43474ca",
   "metadata": {},
   "source": [
    "#### Tampilkan dimensi dari kedua variable tersebut"
   ]
  },
  {
   "cell_type": "code",
   "execution_count": 42,
   "id": "f85c73c1",
   "metadata": {},
   "outputs": [
    {
     "name": "stdout",
     "output_type": "stream",
     "text": [
      "(5, 5)\n",
      "(5, 5)\n"
     ]
    }
   ],
   "source": [
    "print(random_tensor.shape)\n",
    "print(prime_tensor.shape)"
   ]
  },
  {
   "cell_type": "markdown",
   "id": "9aa2038c",
   "metadata": {},
   "source": [
    "#### Tampilkan hasil dari perhitungan aritmetika 2 variable tersebut (Gunakan minimal 5 operator)"
   ]
  },
  {
   "cell_type": "markdown",
   "id": "69bd159b",
   "metadata": {},
   "source": [
    "#### Penjumlahan"
   ]
  },
  {
   "cell_type": "code",
   "execution_count": 43,
   "id": "23830918",
   "metadata": {},
   "outputs": [
    {
     "name": "stdout",
     "output_type": "stream",
     "text": [
      "tf.Tensor(\n",
      "[[ 0.12178493  1.863456    4.788049    6.7049356  10.439727  ]\n",
      " [14.090496   18.558006   19.453035   23.184237   29.02408   ]\n",
      " [31.51235    38.081924   41.04912    43.680946   48.13568   ]\n",
      " [52.194836   58.896713   63.20495    66.46817    71.263084  ]\n",
      " [71.88718    78.40293    84.90517    88.51057    97.085625  ]], shape=(5, 5), dtype=float32)\n"
     ]
    }
   ],
   "source": [
    "print(tf.add(random_tensor,prime_tensor))"
   ]
  },
  {
   "cell_type": "markdown",
   "id": "741fd82f",
   "metadata": {},
   "source": [
    "#### Pengurangan"
   ]
  },
  {
   "cell_type": "code",
   "execution_count": 44,
   "id": "7cee4162",
   "metadata": {},
   "outputs": [
    {
     "name": "stdout",
     "output_type": "stream",
     "text": [
      "tf.Tensor(\n",
      "[[ -3.878215   -4.136544   -5.211951   -7.2950644 -11.560273 ]\n",
      " [-11.909504  -15.441994  -18.546965  -22.815763  -28.97592  ]\n",
      " [-30.48765   -35.918076  -40.95088   -42.319054  -45.86432  ]\n",
      " [-53.805164  -59.103287  -58.79505   -67.53183   -70.736916 ]\n",
      " [-74.11282   -79.59707   -81.09483   -89.48943   -96.914375 ]], shape=(5, 5), dtype=float32)\n"
     ]
    }
   ],
   "source": [
    "print(tf.subtract(random_tensor,prime_tensor))"
   ]
  },
  {
   "cell_type": "markdown",
   "id": "7e794f02",
   "metadata": {},
   "source": [
    "#### Perkalian"
   ]
  },
  {
   "cell_type": "code",
   "execution_count": 45,
   "id": "d9b7795e",
   "metadata": {},
   "outputs": [
    {
     "name": "stdout",
     "output_type": "stream",
     "text": [
      "tf.Tensor(\n",
      "[[ -3.7564301   -3.409632    -1.0597544   -2.0654514   -6.163007  ]\n",
      " [ 14.176443    26.486113     8.607657     4.237424     0.69830674]\n",
      " [ 15.882868    40.031254     2.0140712   29.280739    53.37704   ]\n",
      " [-42.673794    -6.0939264  134.50182    -35.63267     18.678999  ]\n",
      " [-81.236305   -47.16846    158.12868    -43.559696     8.305869  ]], shape=(5, 5), dtype=float32)\n"
     ]
    }
   ],
   "source": [
    "print(tf.multiply(random_tensor,prime_tensor))"
   ]
  },
  {
   "cell_type": "markdown",
   "id": "05c6368a",
   "metadata": {},
   "source": [
    "#### Pembagian"
   ]
  },
  {
   "cell_type": "code",
   "execution_count": 46,
   "id": "4e2ada05",
   "metadata": {},
   "outputs": [
    {
     "name": "stdout",
     "output_type": "stream",
     "text": [
      "tf.Tensor(\n",
      "[[-9.3910754e-01 -3.7884799e-01 -4.2390175e-02 -4.2152070e-02\n",
      "  -5.0933942e-02]\n",
      " [ 8.3884276e-02  9.1647446e-02  2.3843927e-02  8.0102533e-03\n",
      "   8.3032908e-04]\n",
      " [ 1.6527437e-02  2.9241236e-02  1.1981388e-03  1.5835987e-02\n",
      "   2.4163442e-02]\n",
      " [-1.5191810e-02 -1.7506253e-03  3.6146685e-02 -7.9377750e-03\n",
      "   3.7054154e-03]\n",
      " [-1.5244193e-02 -7.5578373e-03  2.2953792e-02 -5.4992675e-03\n",
      "   8.8275794e-04]], shape=(5, 5), dtype=float32)\n"
     ]
    }
   ],
   "source": [
    "print(tf.divide(random_tensor,prime_tensor))"
   ]
  },
  {
   "cell_type": "markdown",
   "id": "a1b18656",
   "metadata": {},
   "source": [
    "#### Logaritma"
   ]
  },
  {
   "cell_type": "code",
   "execution_count": 47,
   "id": "ad6c6ff6",
   "metadata": {},
   "outputs": [
    {
     "name": "stdout",
     "output_type": "stream",
     "text": [
      "tf.Tensor(\n",
      "[[        nan         nan         nan         nan         nan]\n",
      " [ 0.08663225  0.4434072  -0.79178673 -1.6915387  -3.7263927 ]\n",
      " [-0.66874623  0.07874256 -3.013414   -0.38427016  0.12723312]\n",
      " [        nan         nan  0.7907038          nan -1.3352801 ]\n",
      " [        nan         nan  0.64456844         nan -2.4577487 ]], shape=(5, 5), dtype=float32)\n"
     ]
    }
   ],
   "source": [
    "print(tf.math.log(random_tensor,prime_tensor))"
   ]
  },
  {
   "cell_type": "markdown",
   "id": "6fb04d72",
   "metadata": {},
   "source": [
    "#### Tampilkan nilai maksimal dan minimal dari variable random_tensor"
   ]
  },
  {
   "cell_type": "code",
   "execution_count": 48,
   "id": "e4d60009",
   "metadata": {},
   "outputs": [
    {
     "name": "stdout",
     "output_type": "stream",
     "text": [
      "Nilai Maksimal dari variabel random tensor berdasar kolom adalah : \n",
      " [1 1 3 2 2]\n",
      "Nilai Maksimal dari variabel random tensor berdasar baris adalah : \n",
      " [2 1 4 2 2]\n",
      "Nilai Minimal dari variabel random tensor berdasar kolom adalah : \n",
      " [0 0 0 3 0]\n",
      "Nilai Minimal dari variabel random tensor berdasar baris adalah : \n",
      " [0 4 2 0 0]\n"
     ]
    }
   ],
   "source": [
    "max_random_tensor_column = tf.argmax(random_tensor,axis=0)\n",
    "max_random_tensor_row = tf.argmax(random_tensor,axis=1)\n",
    "min_random_tensor_column = tf.argmin(random_tensor,axis=0)\n",
    "min_random_tensor_row = tf.argmin(random_tensor,axis=1)\n",
    "print(\"Nilai Maksimal dari variabel random tensor berdasar kolom adalah : \\n\",max_random_tensor_column.numpy())\n",
    "print(\"Nilai Maksimal dari variabel random tensor berdasar baris adalah : \\n\",max_random_tensor_row.numpy())\n",
    "print(\"Nilai Minimal dari variabel random tensor berdasar kolom adalah : \\n\",min_random_tensor_column.numpy())\n",
    "print(\"Nilai Minimal dari variabel random tensor berdasar baris adalah : \\n\",min_random_tensor_row.numpy())"
   ]
  },
  {
   "cell_type": "markdown",
   "id": "db6629fe",
   "metadata": {},
   "source": [
    "#### Tampilkan hasil dari penggabungan variable random_tensor dengan prime_tensor (concatenation)"
   ]
  },
  {
   "cell_type": "code",
   "execution_count": 53,
   "id": "309d840f",
   "metadata": {},
   "outputs": [
    {
     "name": "stdout",
     "output_type": "stream",
     "text": [
      "Penggabungan Variabel Berdasar Kolom : \n",
      " tf.Tensor(\n",
      "[[-1.8782151e+00 -1.1365440e+00 -2.1195087e-01 -2.9506448e-01\n",
      "  -5.6027335e-01]\n",
      " [ 1.0904956e+00  1.5580066e+00  4.5303461e-01  1.8423583e-01\n",
      "   2.4079543e-02]\n",
      " [ 5.1235056e-01  1.0819257e+00  4.9123690e-02  6.8094742e-01\n",
      "   1.1356817e+00]\n",
      " [-8.0516595e-01 -1.0328689e-01  2.2049477e+00 -5.3183091e-01\n",
      "   2.6308450e-01]\n",
      " [-1.1128261e+00 -5.9706914e-01  1.9051647e+00 -4.8943481e-01\n",
      "   8.5627519e-02]\n",
      " [ 2.0000000e+00  3.0000000e+00  5.0000000e+00  7.0000000e+00\n",
      "   1.1000000e+01]\n",
      " [ 1.3000000e+01  1.7000000e+01  1.9000000e+01  2.3000000e+01\n",
      "   2.9000000e+01]\n",
      " [ 3.1000000e+01  3.7000000e+01  4.1000000e+01  4.3000000e+01\n",
      "   4.7000000e+01]\n",
      " [ 5.3000000e+01  5.9000000e+01  6.1000000e+01  6.7000000e+01\n",
      "   7.1000000e+01]\n",
      " [ 7.3000000e+01  7.9000000e+01  8.3000000e+01  8.9000000e+01\n",
      "   9.7000000e+01]], shape=(10, 5), dtype=float32)\n",
      "\n",
      "Penggabungan Variabel Berdasar Baris \n",
      " tf.Tensor(\n",
      "[[-1.8782151e+00 -1.1365440e+00 -2.1195087e-01 -2.9506448e-01\n",
      "  -5.6027335e-01  2.0000000e+00  3.0000000e+00  5.0000000e+00\n",
      "   7.0000000e+00  1.1000000e+01]\n",
      " [ 1.0904956e+00  1.5580066e+00  4.5303461e-01  1.8423583e-01\n",
      "   2.4079543e-02  1.3000000e+01  1.7000000e+01  1.9000000e+01\n",
      "   2.3000000e+01  2.9000000e+01]\n",
      " [ 5.1235056e-01  1.0819257e+00  4.9123690e-02  6.8094742e-01\n",
      "   1.1356817e+00  3.1000000e+01  3.7000000e+01  4.1000000e+01\n",
      "   4.3000000e+01  4.7000000e+01]\n",
      " [-8.0516595e-01 -1.0328689e-01  2.2049477e+00 -5.3183091e-01\n",
      "   2.6308450e-01  5.3000000e+01  5.9000000e+01  6.1000000e+01\n",
      "   6.7000000e+01  7.1000000e+01]\n",
      " [-1.1128261e+00 -5.9706914e-01  1.9051647e+00 -4.8943481e-01\n",
      "   8.5627519e-02  7.3000000e+01  7.9000000e+01  8.3000000e+01\n",
      "   8.9000000e+01  9.7000000e+01]], shape=(5, 10), dtype=float32)\n"
     ]
    }
   ],
   "source": [
    "concat_tensor_column = tf.concat([random_tensor,prime_tensor],axis=0)\n",
    "concat_tensor_row = tf.concat([random_tensor,prime_tensor],axis=1)\n",
    "print(\"Penggabungan Variabel Berdasar Kolom : \\n\",concat_tensor_column)\n",
    "print(\"\")\n",
    "print(\"Penggabungan Variabel Berdasar Baris \\n\",concat_tensor_row)"
   ]
  },
  {
   "cell_type": "markdown",
   "id": "9ad23292",
   "metadata": {},
   "source": [
    "#### Tampilkan hasil sorting dari kedua variable di atas. (descending)"
   ]
  },
  {
   "cell_type": "code",
   "execution_count": 60,
   "id": "3a89ca8a",
   "metadata": {},
   "outputs": [
    {
     "name": "stdout",
     "output_type": "stream",
     "text": [
      "Hasil Sorting dari variabel random tensor berdasar tensor adalah\n",
      "\n",
      " tf.Tensor(\n",
      "[[-0.21195087 -0.29506448 -0.56027335 -1.136544   -1.8782151 ]\n",
      " [ 1.5580066   1.0904956   0.4530346   0.18423583  0.02407954]\n",
      " [ 1.1356817   1.0819257   0.6809474   0.51235056  0.04912369]\n",
      " [ 2.2049477   0.2630845  -0.10328689 -0.5318309  -0.80516595]\n",
      " [ 1.9051647   0.08562752 -0.4894348  -0.59706914 -1.1128261 ]], shape=(5, 5), dtype=float32) \n",
      "\n",
      "Hasil Sorting dari variabel random tensor berdasar index adalah\n",
      "\n",
      " tf.Tensor(\n",
      "[[2 3 4 1 0]\n",
      " [1 0 2 3 4]\n",
      " [4 1 3 0 2]\n",
      " [2 4 1 3 0]\n",
      " [2 4 3 1 0]], shape=(5, 5), dtype=int32) \n",
      "\n",
      "Hasil Sorting dari variabel prime tensor berdasar tensor adalah\n",
      "\n",
      " tf.Tensor(\n",
      "[[11.  7.  5.  3.  2.]\n",
      " [29. 23. 19. 17. 13.]\n",
      " [47. 43. 41. 37. 31.]\n",
      " [71. 67. 61. 59. 53.]\n",
      " [97. 89. 83. 79. 73.]], shape=(5, 5), dtype=float32) \n",
      "\n",
      "Hasil Sorting dari variabel prime tensor berdasar index adalah\n",
      "\n",
      " tf.Tensor(\n",
      "[[4 3 2 1 0]\n",
      " [4 3 2 1 0]\n",
      " [4 3 2 1 0]\n",
      " [4 3 2 1 0]\n",
      " [4 3 2 1 0]], shape=(5, 5), dtype=int32) \n",
      "\n"
     ]
    }
   ],
   "source": [
    "sorted_tensor_random = tf.sort(random_tensor,direction=\"DESCENDING\")\n",
    "sorted_index_random = tf.argsort(random_tensor,direction=\"DESCENDING\")\n",
    "sorted_tensor_prime =  tf.sort(prime_tensor,direction=\"DESCENDING\")\n",
    "sorted_index_prime = tf.argsort(prime_tensor,direction=\"DESCENDING\")\n",
    "print(\"Hasil Sorting dari variabel random tensor berdasar tensor adalah\\n\\n\",sorted_tensor_random,\"\\n\")\n",
    "print(\"Hasil Sorting dari variabel random tensor berdasar index adalah\\n\\n\",sorted_index_random,\"\\n\")\n",
    "print(\"Hasil Sorting dari variabel prime tensor berdasar tensor adalah\\n\\n\",sorted_tensor_prime,\"\\n\")\n",
    "print(\"Hasil Sorting dari variabel prime tensor berdasar index adalah\\n\\n\",sorted_index_prime,\"\\n\")"
   ]
  },
  {
   "cell_type": "code",
   "execution_count": null,
   "id": "94de7507",
   "metadata": {},
   "outputs": [],
   "source": []
  }
 ],
 "metadata": {
  "kernelspec": {
   "display_name": "Python 3 (ipykernel)",
   "language": "python",
   "name": "python3"
  },
  "language_info": {
   "codemirror_mode": {
    "name": "ipython",
    "version": 3
   },
   "file_extension": ".py",
   "mimetype": "text/x-python",
   "name": "python",
   "nbconvert_exporter": "python",
   "pygments_lexer": "ipython3",
   "version": "3.10.7"
  }
 },
 "nbformat": 4,
 "nbformat_minor": 5
}
