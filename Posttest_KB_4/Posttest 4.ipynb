{
 "cells": [
  {
   "cell_type": "markdown",
   "id": "e6e013ce",
   "metadata": {},
   "source": [
    "# Posttest 4\n",
    "## Data Preprocessing"
   ]
  },
  {
   "cell_type": "markdown",
   "id": "59c309a0",
   "metadata": {},
   "source": [
    "#### Library Yang akan diinput"
   ]
  },
  {
   "cell_type": "code",
   "execution_count": 687,
   "id": "b96fa302",
   "metadata": {},
   "outputs": [],
   "source": [
    "import pandas as pd\n",
    "import numpy as np\n",
    "from sklearn.model_selection import train_test_split\n",
    "from sklearn.preprocessing import StandardScaler \n",
    "from sklearn.preprocessing import MinMaxScaler  \n",
    "import matplotlib.pyplot as plt                    \n",
    "import seaborn as sns   \n",
    "from sklearn.impute import SimpleImputer\n",
    "from sklearn.preprocessing import OneHotEncoder"
   ]
  },
  {
   "cell_type": "markdown",
   "id": "2c1e5497",
   "metadata": {},
   "source": [
    "#### Membaca dataset"
   ]
  },
  {
   "cell_type": "code",
   "execution_count": 688,
   "id": "7a51adbf",
   "metadata": {},
   "outputs": [],
   "source": [
    "df = pd.read_csv(\"Dataset/CustomerSegmentation - Rusak.csv\")"
   ]
  },
  {
   "cell_type": "markdown",
   "id": "84d4d665",
   "metadata": {},
   "source": [
    "### Data Split"
   ]
  },
  {
   "cell_type": "markdown",
   "id": "96605aba",
   "metadata": {},
   "source": [
    "##### Membagi Columnya"
   ]
  },
  {
   "cell_type": "code",
   "execution_count": 689,
   "id": "da2cc1cd",
   "metadata": {},
   "outputs": [],
   "source": [
    "data_X = df[[\"ID\",\"Ever_Married\",\"Age\",\"Graduated\",\"Profession\",\"Work_Experience\",\"Spending_Score\",\"Family_Size\",\"Var_1\"]]\n",
    "label_Y = df[[\"Segmentation\"]]"
   ]
  },
  {
   "cell_type": "markdown",
   "id": "94167850",
   "metadata": {},
   "source": [
    "##### Membagi Dataset nya menjadi 70 : 30"
   ]
  },
  {
   "cell_type": "code",
   "execution_count": 690,
   "id": "be7f5540",
   "metadata": {},
   "outputs": [],
   "source": [
    "x_train, x_test, y_train, y_test = train_test_split(data_X,label_Y,test_size=.3)"
   ]
  },
  {
   "cell_type": "markdown",
   "id": "41186553",
   "metadata": {},
   "source": [
    "##### Melihat Bahwa Dataset sudah terbagi"
   ]
  },
  {
   "cell_type": "code",
   "execution_count": 691,
   "id": "12965acd",
   "metadata": {},
   "outputs": [
    {
     "name": "stdout",
     "output_type": "stream",
     "text": [
      "Jumlah data train adalah 5649 row\n",
      "Jumlah label train adalah 5649 row\n",
      "Jumlah data tes adalah 2422 row\n",
      "Jumlah label tes adalah 2422 row\n",
      "Jumlah dataset adalah 8071 row\n"
     ]
    }
   ],
   "source": [
    "print(f'Jumlah data train adalah {len(x_train)} row',\n",
    "      f'Jumlah label train adalah {len(y_train)} row',\n",
    "      f'Jumlah data tes adalah {len(x_test)} row',\n",
    "      f'Jumlah label tes adalah {len(y_test)} row',\n",
    "      f'Jumlah dataset adalah {len(df)} row',\n",
    "      sep='\\n')"
   ]
  },
  {
   "cell_type": "markdown",
   "id": "ec33835a",
   "metadata": {},
   "source": [
    "### Normalisasi Data"
   ]
  },
  {
   "cell_type": "markdown",
   "id": "c0b9e214",
   "metadata": {},
   "source": [
    "##### Mengcopy dataset"
   ]
  },
  {
   "cell_type": "code",
   "execution_count": 692,
   "id": "8a8581b6",
   "metadata": {},
   "outputs": [],
   "source": [
    "df_normalisasi = df.copy()"
   ]
  },
  {
   "cell_type": "markdown",
   "id": "902980ca",
   "metadata": {},
   "source": [
    "##### Normalisasi Data menggunakan Min Max Scaler"
   ]
  },
  {
   "cell_type": "code",
   "execution_count": 693,
   "id": "178bbcb7",
   "metadata": {},
   "outputs": [],
   "source": [
    "scaler = MinMaxScaler()"
   ]
  },
  {
   "cell_type": "code",
   "execution_count": 694,
   "id": "cacc65f0",
   "metadata": {},
   "outputs": [],
   "source": [
    "normalisasi_df = scaler.fit_transform(df_normalisasi[[\"Age\",\"Work_Experience\",\"Family_Size\"]])\n",
    "normalisasi_df = pd.DataFrame(normalisasi_df)\n",
    "normalisasi_df.rename(columns={0:\"Age\",1:\"Work_Experience\",2:\"Family_Size\"},inplace =True)"
   ]
  },
  {
   "cell_type": "markdown",
   "id": "1109720b",
   "metadata": {},
   "source": [
    "##### Melihat dataset setelah di normalisasi"
   ]
  },
  {
   "cell_type": "code",
   "execution_count": 695,
   "id": "7c8b4426",
   "metadata": {},
   "outputs": [
    {
     "data": {
      "image/png": "[encoded data removed]",
      "text/plain": [
       "<Figure size 500x500 with 1 Axes>"
      ]
     },
     "metadata": {},
     "output_type": "display_data"
    }
   ],
   "source": [
    "plt.figure(1,figsize=(5,5))\n",
    "sns.scatterplot(normalisasi_df, x='Age', y='Family_Size', color='red')\n",
    "plt.title('Distribusi Customer')\n",
    "plt.xlabel('Age')\n",
    "plt.ylabel('Family Size')\n",
    "plt.show()"
   ]
  },
  {
   "cell_type": "markdown",
   "id": "d996f842",
   "metadata": {},
   "source": [
    "### Standarisasi Data"
   ]
  },
  {
   "cell_type": "markdown",
   "id": "bfbf8a24",
   "metadata": {},
   "source": [
    "##### Mengcopy Dataset"
   ]
  },
  {
   "cell_type": "code",
   "execution_count": 696,
   "id": "58968761",
   "metadata": {},
   "outputs": [],
   "source": [
    "standarisasi_df = df.copy()"
   ]
  },
  {
   "cell_type": "markdown",
   "id": "27cd73d4",
   "metadata": {},
   "source": [
    "##### Standarisasi Dataset"
   ]
  },
  {
   "cell_type": "code",
   "execution_count": 697,
   "id": "a763d083",
   "metadata": {},
   "outputs": [],
   "source": [
    "standarisasi_df.drop([\"Gender\",\"Ever_Married\",\"Graduated\",\"Profession\",\"Spending_Score\",\"Var_1\",\"Segmentation\"],axis=1,inplace=True)"
   ]
  },
  {
   "cell_type": "markdown",
   "id": "09cd251f",
   "metadata": {},
   "source": [
    "##### Mengisi data yang kosong --> Standarisasi Tidak dapat dilakukan jika dataset masih ada yang kosong atau NaN"
   ]
  },
  {
   "cell_type": "code",
   "execution_count": 698,
   "id": "5c8291ad",
   "metadata": {},
   "outputs": [],
   "source": [
    "standarisasi_df[\"Work_Experience\"].fillna(standarisasi_df[\"Work_Experience\"].mean(),inplace=True)\n",
    "standarisasi_df[\"Family_Size\"].fillna(standarisasi_df[\"Family_Size\"].mean(),inplace=True)"
   ]
  },
  {
   "cell_type": "code",
   "execution_count": 699,
   "id": "768cfbf0",
   "metadata": {},
   "outputs": [],
   "source": [
    "tool_standar = StandardScaler()\n",
    "df_standar = tool_standar.fit_transform(standarisasi_df)"
   ]
  },
  {
   "cell_type": "markdown",
   "id": "a99b00ed",
   "metadata": {},
   "source": [
    "##### Melihat dataset setelah di standarisasi"
   ]
  },
  {
   "cell_type": "code",
   "execution_count": 700,
   "id": "a6e691e7",
   "metadata": {},
   "outputs": [
    {
     "name": "stdout",
     "output_type": "stream",
     "text": [
      "Standar Deviasi :  1.0\n"
     ]
    }
   ],
   "source": [
    "print(\"Standar Deviasi : \", np.std(df_standar))"
   ]
  },
  {
   "cell_type": "markdown",
   "id": "213678f6",
   "metadata": {},
   "source": [
    "### Data Cleaning ---> Null Value"
   ]
  },
  {
   "cell_type": "markdown",
   "id": "c17e9ad9",
   "metadata": {},
   "source": [
    "##### Mengcopy dataset ke dataframe baru"
   ]
  },
  {
   "cell_type": "code",
   "execution_count": 701,
   "id": "09ddc80e",
   "metadata": {},
   "outputs": [],
   "source": [
    "df_clean = df.copy()"
   ]
  },
  {
   "cell_type": "markdown",
   "id": "dc33c374",
   "metadata": {},
   "source": [
    "##### Melihat apakah ada data yang null"
   ]
  },
  {
   "cell_type": "code",
   "execution_count": 702,
   "id": "0c194714",
   "metadata": {},
   "outputs": [
    {
     "data": {
      "text/plain": [
       "ID                   0\n",
       "Gender               0\n",
       "Ever_Married       140\n",
       "Age                  0\n",
       "Graduated           78\n",
       "Profession         125\n",
       "Work_Experience    829\n",
       "Spending_Score       0\n",
       "Family_Size        335\n",
       "Var_1               76\n",
       "Segmentation         0\n",
       "dtype: int64"
      ]
     },
     "execution_count": 702,
     "metadata": {},
     "output_type": "execute_result"
    }
   ],
   "source": [
    "df_clean.isna().sum()"
   ]
  },
  {
   "cell_type": "markdown",
   "id": "5aa87bd3",
   "metadata": {},
   "source": [
    "##### Melihat tipe objek"
   ]
  },
  {
   "cell_type": "code",
   "execution_count": 703,
   "id": "ff0b103c",
   "metadata": {},
   "outputs": [
    {
     "name": "stdout",
     "output_type": "stream",
     "text": [
      "<class 'pandas.core.frame.DataFrame'>\n",
      "RangeIndex: 8071 entries, 0 to 8070\n",
      "Data columns (total 11 columns):\n",
      " #   Column           Non-Null Count  Dtype  \n",
      "---  ------           --------------  -----  \n",
      " 0   ID               8071 non-null   int64  \n",
      " 1   Gender           8071 non-null   object \n",
      " 2   Ever_Married     7931 non-null   object \n",
      " 3   Age              8071 non-null   int64  \n",
      " 4   Graduated        7993 non-null   object \n",
      " 5   Profession       7946 non-null   object \n",
      " 6   Work_Experience  7242 non-null   float64\n",
      " 7   Spending_Score   8071 non-null   object \n",
      " 8   Family_Size      7736 non-null   float64\n",
      " 9   Var_1            7995 non-null   object \n",
      " 10  Segmentation     8071 non-null   object \n",
      "dtypes: float64(2), int64(2), object(7)\n",
      "memory usage: 693.7+ KB\n"
     ]
    }
   ],
   "source": [
    "df_clean.info()"
   ]
  },
  {
   "cell_type": "markdown",
   "id": "2c98146c",
   "metadata": {},
   "source": [
    "##### Membuat alat yang akan digunakan untuk mengganti nilai null"
   ]
  },
  {
   "cell_type": "code",
   "execution_count": 704,
   "id": "6a3f9ce4",
   "metadata": {},
   "outputs": [],
   "source": [
    "imputer_mean = SimpleImputer(strategy=\"mean\")\n",
    "imputer_median = SimpleImputer(strategy=\"median\")\n",
    "imputer_modus = SimpleImputer(strategy=\"most_frequent\")"
   ]
  },
  {
   "cell_type": "markdown",
   "id": "9d720255",
   "metadata": {},
   "source": [
    "##### Mengganti nilai null ---> Untuk Nilai Yang Berupa object"
   ]
  },
  {
   "cell_type": "code",
   "execution_count": 705,
   "id": "6c0a2e38",
   "metadata": {},
   "outputs": [],
   "source": [
    "df_clean[\"Ever_Married\"] = imputer_modus.fit_transform(df_clean[[\"Ever_Married\"]])\n",
    "df_clean[\"Graduated\"] = imputer_modus.fit_transform(df_clean[[\"Graduated\"]])\n",
    "df_clean[\"Profession\"] = imputer_modus.fit_transform(df_clean[[\"Profession\"]])\n",
    "df_clean[\"Var_1\"] = imputer_modus.fit_transform(df_clean[[\"Var_1\"]])"
   ]
  },
  {
   "cell_type": "markdown",
   "id": "5a86b436",
   "metadata": {},
   "source": [
    "##### Mengganti nilai null ---> Agar nilai menjadi Bilangan bulat"
   ]
  },
  {
   "cell_type": "code",
   "execution_count": 706,
   "id": "3c544a6f",
   "metadata": {},
   "outputs": [],
   "source": [
    "df_clean[\"Family_Size\"] = imputer_median.fit_transform(df_clean[[\"Family_Size\"]])"
   ]
  },
  {
   "cell_type": "markdown",
   "id": "2876c7ff",
   "metadata": {},
   "source": [
    "##### Mengganti nilai null ---> Agar nilai menjadi bilangan desimal"
   ]
  },
  {
   "cell_type": "code",
   "execution_count": 707,
   "id": "49e0dd38",
   "metadata": {},
   "outputs": [],
   "source": [
    "df_clean[\"Work_Experience\"] = imputer_mean.fit_transform(df_clean[[\"Work_Experience\"]])"
   ]
  },
  {
   "cell_type": "markdown",
   "id": "f57fef17",
   "metadata": {},
   "source": [
    "###### Melihat apakah data sudah terisi semua"
   ]
  },
  {
   "cell_type": "code",
   "execution_count": 708,
   "id": "edc6a3d0",
   "metadata": {},
   "outputs": [
    {
     "data": {
      "text/plain": [
       "ID                 0\n",
       "Gender             0\n",
       "Ever_Married       0\n",
       "Age                0\n",
       "Graduated          0\n",
       "Profession         0\n",
       "Work_Experience    0\n",
       "Spending_Score     0\n",
       "Family_Size        0\n",
       "Var_1              0\n",
       "Segmentation       0\n",
       "dtype: int64"
      ]
     },
     "execution_count": 708,
     "metadata": {},
     "output_type": "execute_result"
    }
   ],
   "source": [
    "df_clean.isna().sum()"
   ]
  },
  {
   "cell_type": "markdown",
   "id": "3dec792c",
   "metadata": {},
   "source": [
    "### Data Cleaning ---> Duplicate Value"
   ]
  },
  {
   "cell_type": "markdown",
   "id": "ecc60bb3",
   "metadata": {},
   "source": [
    "##### Melihat apakah ada data yang duplikat"
   ]
  },
  {
   "cell_type": "code",
   "execution_count": 709,
   "id": "00e0bd5f",
   "metadata": {},
   "outputs": [
    {
     "data": {
      "text/plain": [
       "3"
      ]
     },
     "execution_count": 709,
     "metadata": {},
     "output_type": "execute_result"
    }
   ],
   "source": [
    "df_clean.duplicated().sum()"
   ]
  },
  {
   "cell_type": "markdown",
   "id": "d41f62f2",
   "metadata": {},
   "source": [
    "##### Menghapus data yang duplikat"
   ]
  },
  {
   "cell_type": "code",
   "execution_count": 710,
   "id": "dfa41e92",
   "metadata": {},
   "outputs": [],
   "source": [
    "df_clean.drop_duplicates(inplace=True)"
   ]
  },
  {
   "cell_type": "markdown",
   "id": "cc2d658c",
   "metadata": {},
   "source": [
    "##### Melihat lagi apakah data duplikat sudah terhapus"
   ]
  },
  {
   "cell_type": "code",
   "execution_count": 711,
   "id": "836ba10e",
   "metadata": {},
   "outputs": [
    {
     "data": {
      "text/plain": [
       "0"
      ]
     },
     "execution_count": 711,
     "metadata": {},
     "output_type": "execute_result"
    }
   ],
   "source": [
    "df_clean.duplicated().sum()"
   ]
  },
  {
   "cell_type": "markdown",
   "id": "617d88d1",
   "metadata": {},
   "source": [
    "### Mengganti Tipe data salah satu attribute angka"
   ]
  },
  {
   "cell_type": "markdown",
   "id": "456757d3",
   "metadata": {},
   "source": [
    "##### Melihat tipe data attribute"
   ]
  },
  {
   "cell_type": "code",
   "execution_count": 712,
   "id": "bf88d124",
   "metadata": {},
   "outputs": [
    {
     "data": {
      "text/plain": [
       "ID                   int64\n",
       "Gender              object\n",
       "Ever_Married        object\n",
       "Age                  int64\n",
       "Graduated           object\n",
       "Profession          object\n",
       "Work_Experience    float64\n",
       "Spending_Score      object\n",
       "Family_Size        float64\n",
       "Var_1               object\n",
       "Segmentation        object\n",
       "dtype: object"
      ]
     },
     "execution_count": 712,
     "metadata": {},
     "output_type": "execute_result"
    }
   ],
   "source": [
    "df_clean.dtypes"
   ]
  },
  {
   "cell_type": "markdown",
   "id": "fd388f54",
   "metadata": {},
   "source": [
    "##### Mengganti Tipe data attribute angka"
   ]
  },
  {
   "cell_type": "code",
   "execution_count": 713,
   "id": "889fe81d",
   "metadata": {},
   "outputs": [],
   "source": [
    "df_clean[\"Age\"] = df_clean[\"Age\"].astype(\"object\")"
   ]
  },
  {
   "cell_type": "markdown",
   "id": "cba4f516",
   "metadata": {},
   "source": [
    "##### Melihat apakah tipe atribut sudah terubah"
   ]
  },
  {
   "cell_type": "code",
   "execution_count": 714,
   "id": "51a1bd1e",
   "metadata": {},
   "outputs": [
    {
     "data": {
      "text/plain": [
       "ID                   int64\n",
       "Gender              object\n",
       "Ever_Married        object\n",
       "Age                 object\n",
       "Graduated           object\n",
       "Profession          object\n",
       "Work_Experience    float64\n",
       "Spending_Score      object\n",
       "Family_Size        float64\n",
       "Var_1               object\n",
       "Segmentation        object\n",
       "dtype: object"
      ]
     },
     "execution_count": 714,
     "metadata": {},
     "output_type": "execute_result"
    }
   ],
   "source": [
    "df_clean.dtypes"
   ]
  },
  {
   "cell_type": "markdown",
   "id": "59c82d89",
   "metadata": {},
   "source": [
    "### One Hot Encoding"
   ]
  },
  {
   "cell_type": "markdown",
   "id": "388efee2",
   "metadata": {},
   "source": [
    "##### Buat dataframe baru"
   ]
  },
  {
   "cell_type": "code",
   "execution_count": 715,
   "id": "78b4da38",
   "metadata": {},
   "outputs": [],
   "source": [
    "data_encoder = df_clean.copy()"
   ]
  },
  {
   "cell_type": "markdown",
   "id": "9b2efbee",
   "metadata": {},
   "source": [
    "##### Buat Tool Encoder"
   ]
  },
  {
   "cell_type": "code",
   "execution_count": 716,
   "id": "b1a897ba",
   "metadata": {},
   "outputs": [],
   "source": [
    "encoder = OneHotEncoder(sparse=False)"
   ]
  },
  {
   "cell_type": "markdown",
   "id": "4234909d",
   "metadata": {},
   "source": [
    "##### Ubah label dari kategorical menjadi binary"
   ]
  },
  {
   "cell_type": "code",
   "execution_count": 717,
   "id": "28e66fcc",
   "metadata": {},
   "outputs": [],
   "source": [
    "temp_df = encoder.fit_transform(data_encoder[['Segmentation']]).astype('int32')"
   ]
  },
  {
   "cell_type": "markdown",
   "id": "84664a83",
   "metadata": {},
   "source": [
    "##### Ubah dataset menjadi dataframe"
   ]
  },
  {
   "cell_type": "code",
   "execution_count": 718,
   "id": "c158122e",
   "metadata": {},
   "outputs": [],
   "source": [
    "temp_df = pd.DataFrame(temp_df)"
   ]
  },
  {
   "cell_type": "markdown",
   "id": "3d31cb23",
   "metadata": {},
   "source": [
    "##### Hapus label yang sebelumnya kategorical"
   ]
  },
  {
   "cell_type": "code",
   "execution_count": 719,
   "id": "7c44457d",
   "metadata": {},
   "outputs": [],
   "source": [
    "data_encoder.drop('Segmentation', axis=1, inplace=True)"
   ]
  },
  {
   "cell_type": "markdown",
   "id": "97fff7be",
   "metadata": {},
   "source": [
    "##### Tambah atribut baru"
   ]
  },
  {
   "cell_type": "code",
   "execution_count": 720,
   "id": "9cfcb9f4",
   "metadata": {},
   "outputs": [],
   "source": [
    "data_encoder = data_encoder.join(temp_df)"
   ]
  },
  {
   "cell_type": "markdown",
   "id": "074d49f1",
   "metadata": {},
   "source": [
    "##### Ubah nama atribut label"
   ]
  },
  {
   "cell_type": "code",
   "execution_count": 721,
   "id": "e375ca9d",
   "metadata": {},
   "outputs": [],
   "source": [
    "data_encoder.rename(columns={0:'A', 1:'B', 2:'C',3:'D'}, inplace=True)"
   ]
  },
  {
   "cell_type": "markdown",
   "id": "f9f5210c",
   "metadata": {},
   "source": [
    "##### Menunjukkan Hasil Record"
   ]
  },
  {
   "cell_type": "code",
   "execution_count": 722,
   "id": "425ed34a",
   "metadata": {},
   "outputs": [
    {
     "data": {
      "text/html": [
       "<div>\n",
       "<style scoped>\n",
       "    .dataframe tbody tr th:only-of-type {\n",
       "        vertical-align: middle;\n",
       "    }\n",
       "\n",
       "    .dataframe tbody tr th {\n",
       "        vertical-align: top;\n",
       "    }\n",
       "\n",
       "    .dataframe thead th {\n",
       "        text-align: right;\n",
       "    }\n",
       "</style>\n",
       "<table border=\"1\" class=\"dataframe\">\n",
       "  <thead>\n",
       "    <tr style=\"text-align: right;\">\n",
       "      <th></th>\n",
       "      <th>ID</th>\n",
       "      <th>Gender</th>\n",
       "      <th>Ever_Married</th>\n",
       "      <th>Age</th>\n",
       "      <th>Graduated</th>\n",
       "      <th>Profession</th>\n",
       "      <th>Work_Experience</th>\n",
       "      <th>Spending_Score</th>\n",
       "      <th>Family_Size</th>\n",
       "      <th>Var_1</th>\n",
       "      <th>A</th>\n",
       "      <th>B</th>\n",
       "      <th>C</th>\n",
       "      <th>D</th>\n",
       "    </tr>\n",
       "  </thead>\n",
       "  <tbody>\n",
       "    <tr>\n",
       "      <th>1</th>\n",
       "      <td>462643</td>\n",
       "      <td>Female</td>\n",
       "      <td>Yes</td>\n",
       "      <td>38</td>\n",
       "      <td>Yes</td>\n",
       "      <td>Engineer</td>\n",
       "      <td>2.640845</td>\n",
       "      <td>Average</td>\n",
       "      <td>3.0</td>\n",
       "      <td>Cat_4</td>\n",
       "      <td>1</td>\n",
       "      <td>0</td>\n",
       "      <td>0</td>\n",
       "      <td>0</td>\n",
       "    </tr>\n",
       "    <tr>\n",
       "      <th>2</th>\n",
       "      <td>466315</td>\n",
       "      <td>Female</td>\n",
       "      <td>Yes</td>\n",
       "      <td>67</td>\n",
       "      <td>Yes</td>\n",
       "      <td>Engineer</td>\n",
       "      <td>1.000000</td>\n",
       "      <td>Low</td>\n",
       "      <td>1.0</td>\n",
       "      <td>Cat_6</td>\n",
       "      <td>0</td>\n",
       "      <td>1</td>\n",
       "      <td>0</td>\n",
       "      <td>0</td>\n",
       "    </tr>\n",
       "    <tr>\n",
       "      <th>3</th>\n",
       "      <td>461735</td>\n",
       "      <td>Male</td>\n",
       "      <td>Yes</td>\n",
       "      <td>67</td>\n",
       "      <td>Yes</td>\n",
       "      <td>Lawyer</td>\n",
       "      <td>0.000000</td>\n",
       "      <td>High</td>\n",
       "      <td>2.0</td>\n",
       "      <td>Cat_6</td>\n",
       "      <td>0</td>\n",
       "      <td>1</td>\n",
       "      <td>0</td>\n",
       "      <td>0</td>\n",
       "    </tr>\n",
       "    <tr>\n",
       "      <th>4</th>\n",
       "      <td>462669</td>\n",
       "      <td>Female</td>\n",
       "      <td>Yes</td>\n",
       "      <td>40</td>\n",
       "      <td>Yes</td>\n",
       "      <td>Entertainment</td>\n",
       "      <td>2.640845</td>\n",
       "      <td>High</td>\n",
       "      <td>6.0</td>\n",
       "      <td>Cat_6</td>\n",
       "      <td>1</td>\n",
       "      <td>0</td>\n",
       "      <td>0</td>\n",
       "      <td>0</td>\n",
       "    </tr>\n",
       "    <tr>\n",
       "      <th>5</th>\n",
       "      <td>461319</td>\n",
       "      <td>Male</td>\n",
       "      <td>Yes</td>\n",
       "      <td>56</td>\n",
       "      <td>No</td>\n",
       "      <td>Artist</td>\n",
       "      <td>0.000000</td>\n",
       "      <td>Average</td>\n",
       "      <td>2.0</td>\n",
       "      <td>Cat_6</td>\n",
       "      <td>0</td>\n",
       "      <td>0</td>\n",
       "      <td>1</td>\n",
       "      <td>0</td>\n",
       "    </tr>\n",
       "    <tr>\n",
       "      <th>...</th>\n",
       "      <td>...</td>\n",
       "      <td>...</td>\n",
       "      <td>...</td>\n",
       "      <td>...</td>\n",
       "      <td>...</td>\n",
       "      <td>...</td>\n",
       "      <td>...</td>\n",
       "      <td>...</td>\n",
       "      <td>...</td>\n",
       "      <td>...</td>\n",
       "      <td>...</td>\n",
       "      <td>...</td>\n",
       "      <td>...</td>\n",
       "      <td>...</td>\n",
       "    </tr>\n",
       "    <tr>\n",
       "      <th>95</th>\n",
       "      <td>463845</td>\n",
       "      <td>Male</td>\n",
       "      <td>Yes</td>\n",
       "      <td>58</td>\n",
       "      <td>Yes</td>\n",
       "      <td>Artist</td>\n",
       "      <td>2.640845</td>\n",
       "      <td>Average</td>\n",
       "      <td>1.0</td>\n",
       "      <td>Cat_6</td>\n",
       "      <td>0</td>\n",
       "      <td>0</td>\n",
       "      <td>0</td>\n",
       "      <td>1</td>\n",
       "    </tr>\n",
       "    <tr>\n",
       "      <th>96</th>\n",
       "      <td>459976</td>\n",
       "      <td>Female</td>\n",
       "      <td>No</td>\n",
       "      <td>38</td>\n",
       "      <td>Yes</td>\n",
       "      <td>Artist</td>\n",
       "      <td>0.000000</td>\n",
       "      <td>Low</td>\n",
       "      <td>1.0</td>\n",
       "      <td>Cat_6</td>\n",
       "      <td>0</td>\n",
       "      <td>0</td>\n",
       "      <td>0</td>\n",
       "      <td>1</td>\n",
       "    </tr>\n",
       "    <tr>\n",
       "      <th>97</th>\n",
       "      <td>461334</td>\n",
       "      <td>Male</td>\n",
       "      <td>Yes</td>\n",
       "      <td>63</td>\n",
       "      <td>Yes</td>\n",
       "      <td>Artist</td>\n",
       "      <td>0.000000</td>\n",
       "      <td>High</td>\n",
       "      <td>2.0</td>\n",
       "      <td>Cat_6</td>\n",
       "      <td>0</td>\n",
       "      <td>0</td>\n",
       "      <td>1</td>\n",
       "      <td>0</td>\n",
       "    </tr>\n",
       "    <tr>\n",
       "      <th>98</th>\n",
       "      <td>465108</td>\n",
       "      <td>Male</td>\n",
       "      <td>Yes</td>\n",
       "      <td>58</td>\n",
       "      <td>Yes</td>\n",
       "      <td>Doctor</td>\n",
       "      <td>1.000000</td>\n",
       "      <td>Average</td>\n",
       "      <td>2.0</td>\n",
       "      <td>Cat_6</td>\n",
       "      <td>0</td>\n",
       "      <td>0</td>\n",
       "      <td>1</td>\n",
       "      <td>0</td>\n",
       "    </tr>\n",
       "    <tr>\n",
       "      <th>99</th>\n",
       "      <td>462600</td>\n",
       "      <td>Male</td>\n",
       "      <td>Yes</td>\n",
       "      <td>30</td>\n",
       "      <td>No</td>\n",
       "      <td>Engineer</td>\n",
       "      <td>3.000000</td>\n",
       "      <td>Average</td>\n",
       "      <td>3.0</td>\n",
       "      <td>Cat_4</td>\n",
       "      <td>0</td>\n",
       "      <td>0</td>\n",
       "      <td>0</td>\n",
       "      <td>1</td>\n",
       "    </tr>\n",
       "  </tbody>\n",
       "</table>\n",
       "<p>99 rows × 14 columns</p>\n",
       "</div>"
      ],
      "text/plain": [
       "        ID  Gender Ever_Married Age Graduated     Profession  Work_Experience  \\\n",
       "1   462643  Female          Yes  38       Yes       Engineer         2.640845   \n",
       "2   466315  Female          Yes  67       Yes       Engineer         1.000000   \n",
       "3   461735    Male          Yes  67       Yes         Lawyer         0.000000   \n",
       "4   462669  Female          Yes  40       Yes  Entertainment         2.640845   \n",
       "5   461319    Male          Yes  56        No         Artist         0.000000   \n",
       "..     ...     ...          ...  ..       ...            ...              ...   \n",
       "95  463845    Male          Yes  58       Yes         Artist         2.640845   \n",
       "96  459976  Female           No  38       Yes         Artist         0.000000   \n",
       "97  461334    Male          Yes  63       Yes         Artist         0.000000   \n",
       "98  465108    Male          Yes  58       Yes         Doctor         1.000000   \n",
       "99  462600    Male          Yes  30        No       Engineer         3.000000   \n",
       "\n",
       "   Spending_Score  Family_Size  Var_1  A  B  C  D  \n",
       "1         Average          3.0  Cat_4  1  0  0  0  \n",
       "2             Low          1.0  Cat_6  0  1  0  0  \n",
       "3            High          2.0  Cat_6  0  1  0  0  \n",
       "4            High          6.0  Cat_6  1  0  0  0  \n",
       "5         Average          2.0  Cat_6  0  0  1  0  \n",
       "..            ...          ...    ... .. .. .. ..  \n",
       "95        Average          1.0  Cat_6  0  0  0  1  \n",
       "96            Low          1.0  Cat_6  0  0  0  1  \n",
       "97           High          2.0  Cat_6  0  0  1  0  \n",
       "98        Average          2.0  Cat_6  0  0  1  0  \n",
       "99        Average          3.0  Cat_4  0  0  0  1  \n",
       "\n",
       "[99 rows x 14 columns]"
      ]
     },
     "execution_count": 722,
     "metadata": {},
     "output_type": "execute_result"
    }
   ],
   "source": [
    "data_encoder[1:100]"
   ]
  },
  {
   "cell_type": "code",
   "execution_count": null,
   "id": "7f31629d",
   "metadata": {},
   "outputs": [],
   "source": []
  }
 ],
 "metadata": {
  "kernelspec": {
   "display_name": "Python 3 (ipykernel)",
   "language": "python",
   "name": "python3"
  },
  "language_info": {
   "codemirror_mode": {
    "name": "ipython",
    "version": 3
   },
   "file_extension": ".py",
   "mimetype": "text/x-python",
   "name": "python",
   "nbconvert_exporter": "python",
   "pygments_lexer": "ipython3",
   "version": "3.10.7"
  }
 },
 "nbformat": 4,
 "nbformat_minor": 5
}
