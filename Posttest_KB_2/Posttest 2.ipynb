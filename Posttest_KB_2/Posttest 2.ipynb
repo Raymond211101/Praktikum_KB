{
 "cells": [
  {
   "cell_type": "markdown",
   "id": "a2fccacf",
   "metadata": {},
   "source": [
    "# POSTTEST 2\n",
    "## DATASET DAN EDA"
   ]
  },
  {
   "cell_type": "markdown",
   "id": "92bc0ced",
   "metadata": {},
   "source": [
    "### Nomor 1"
   ]
  },
  {
   "cell_type": "code",
   "execution_count": 85,
   "id": "35542543",
   "metadata": {},
   "outputs": [],
   "source": [
    "import pandas as pd"
   ]
  },
  {
   "cell_type": "markdown",
   "id": "c04166e0",
   "metadata": {},
   "source": [
    "#### Read Data"
   ]
  },
  {
   "cell_type": "code",
   "execution_count": 86,
   "id": "51a00aca",
   "metadata": {},
   "outputs": [],
   "source": [
    "df = pd.read_csv(\"data/data.csv\")"
   ]
  },
  {
   "cell_type": "markdown",
   "id": "f1104ea5",
   "metadata": {},
   "source": [
    "#### Jumlah Record"
   ]
  },
  {
   "cell_type": "code",
   "execution_count": 83,
   "id": "888a59bd",
   "metadata": {},
   "outputs": [
    {
     "data": {
      "text/plain": [
       "70948"
      ]
     },
     "execution_count": 83,
     "metadata": {},
     "output_type": "execute_result"
    }
   ],
   "source": [
    "jumlah_record =len(df)\n",
    "jumlah_record"
   ]
  },
  {
   "cell_type": "markdown",
   "id": "04b4b40b",
   "metadata": {},
   "source": [
    "#### Nama Atribut"
   ]
  },
  {
   "cell_type": "code",
   "execution_count": 87,
   "id": "85ee13e9",
   "metadata": {},
   "outputs": [
    {
     "data": {
      "text/plain": [
       "Index(['title', 'description', 'rating', 'year', 'tags', 'cover'], dtype='object')"
      ]
     },
     "execution_count": 87,
     "metadata": {},
     "output_type": "execute_result"
    }
   ],
   "source": [
    "atr = df.columns\n",
    "df.columns"
   ]
  },
  {
   "cell_type": "markdown",
   "id": "1d8c98d6",
   "metadata": {},
   "source": [
    "#### Jumlah Atribut dengan tipe objek"
   ]
  },
  {
   "cell_type": "code",
   "execution_count": 88,
   "id": "d9a8477a",
   "metadata": {},
   "outputs": [
    {
     "data": {
      "text/plain": [
       "4"
      ]
     },
     "execution_count": 88,
     "metadata": {},
     "output_type": "execute_result"
    }
   ],
   "source": [
    "atr_obj = len(df.select_dtypes(include=[\"object\"]).columns)\n",
    "atr_obj"
   ]
  },
  {
   "cell_type": "markdown",
   "id": "b4f65eec",
   "metadata": {},
   "source": [
    "#### Jumlah Atribut dengan tipe angka"
   ]
  },
  {
   "cell_type": "code",
   "execution_count": 89,
   "id": "4f1a8352",
   "metadata": {},
   "outputs": [
    {
     "data": {
      "text/plain": [
       "2"
      ]
     },
     "execution_count": 89,
     "metadata": {},
     "output_type": "execute_result"
    }
   ],
   "source": [
    "atr_ang = len(df.select_dtypes(include=[\"float64\"]).columns)\n",
    "atr_ang"
   ]
  },
  {
   "cell_type": "markdown",
   "id": "7412d53e",
   "metadata": {},
   "source": [
    "#### Jumlah Atribut yang memiliki nilai null"
   ]
  },
  {
   "cell_type": "code",
   "execution_count": 91,
   "id": "b4188940",
   "metadata": {},
   "outputs": [
    {
     "data": {
      "text/plain": [
       "6"
      ]
     },
     "execution_count": 91,
     "metadata": {},
     "output_type": "execute_result"
    }
   ],
   "source": [
    "atr_null = len(df.isnull().columns)\n",
    "atr_null\n"
   ]
  },
  {
   "cell_type": "markdown",
   "id": "52497213",
   "metadata": {},
   "source": [
    "\n",
    "\n",
    "### Nomor 2\n",
    "\n",
    "#### Memasukkan informasi data ke dalam dictionary sesuai dengan nama informasinya\n"
   ]
  },
  {
   "cell_type": "code",
   "execution_count": 92,
   "id": "a6350a02",
   "metadata": {},
   "outputs": [
    {
     "data": {
      "text/plain": [
       "Jumlah Record                                                                          70948\n",
       "Nama Atribut                               Index(['title', 'description', 'rating', 'year...\n",
       "Jumlah Atribut dengan tipe objek                                                           4\n",
       "Jumlah atribut dengan tipe angka                                                           2\n",
       "Jumlah atribut yang memiliki nilai null                                                    6\n",
       "dtype: object"
      ]
     },
     "execution_count": 92,
     "metadata": {},
     "output_type": "execute_result"
    }
   ],
   "source": [
    "dictionary = {\n",
    "    \"Jumlah Record\" : jumlah_record,\n",
    "    \"Nama Atribut\"  : atr,\n",
    "    \"Jumlah Atribut dengan tipe objek\" : atr_obj,\n",
    "    \"Jumlah atribut dengan tipe angka\" : atr_ang,\n",
    "    \"Jumlah atribut yang memiliki nilai null\" : atr_null,\n",
    "}\n",
    "pd.Series(dictionary)"
   ]
  },
  {
   "cell_type": "markdown",
   "id": "5fdc1d5a",
   "metadata": {},
   "source": [
    "\n",
    "\n",
    "### Nomor 3\n",
    "\n",
    "#### Menampilkan rata-rata, standar deviasi, nilai minimum, nilai maksimum,Q1,Q2 dan Q3 dari atribute bertipe angka\n"
   ]
  },
  {
   "cell_type": "code",
   "execution_count": 93,
   "id": "d8ca0722",
   "metadata": {},
   "outputs": [
    {
     "data": {
      "text/html": [
       "<div>\n",
       "<style scoped>\n",
       "    .dataframe tbody tr th:only-of-type {\n",
       "        vertical-align: middle;\n",
       "    }\n",
       "\n",
       "    .dataframe tbody tr th {\n",
       "        vertical-align: top;\n",
       "    }\n",
       "\n",
       "    .dataframe thead th {\n",
       "        text-align: right;\n",
       "    }\n",
       "</style>\n",
       "<table border=\"1\" class=\"dataframe\">\n",
       "  <thead>\n",
       "    <tr style=\"text-align: right;\">\n",
       "      <th></th>\n",
       "      <th>rating</th>\n",
       "      <th>year</th>\n",
       "    </tr>\n",
       "  </thead>\n",
       "  <tbody>\n",
       "    <tr>\n",
       "      <th>count</th>\n",
       "      <td>29871.000000</td>\n",
       "      <td>70124.000000</td>\n",
       "    </tr>\n",
       "    <tr>\n",
       "      <th>mean</th>\n",
       "      <td>3.784694</td>\n",
       "      <td>2011.789302</td>\n",
       "    </tr>\n",
       "    <tr>\n",
       "      <th>std</th>\n",
       "      <td>0.400387</td>\n",
       "      <td>9.026567</td>\n",
       "    </tr>\n",
       "    <tr>\n",
       "      <th>min</th>\n",
       "      <td>2.000000</td>\n",
       "      <td>1926.000000</td>\n",
       "    </tr>\n",
       "    <tr>\n",
       "      <th>25%</th>\n",
       "      <td>3.500000</td>\n",
       "      <td>2008.000000</td>\n",
       "    </tr>\n",
       "    <tr>\n",
       "      <th>50%</th>\n",
       "      <td>3.800000</td>\n",
       "      <td>2014.000000</td>\n",
       "    </tr>\n",
       "    <tr>\n",
       "      <th>75%</th>\n",
       "      <td>4.100000</td>\n",
       "      <td>2018.000000</td>\n",
       "    </tr>\n",
       "    <tr>\n",
       "      <th>max</th>\n",
       "      <td>4.700000</td>\n",
       "      <td>2022.000000</td>\n",
       "    </tr>\n",
       "  </tbody>\n",
       "</table>\n",
       "</div>"
      ],
      "text/plain": [
       "             rating          year\n",
       "count  29871.000000  70124.000000\n",
       "mean       3.784694   2011.789302\n",
       "std        0.400387      9.026567\n",
       "min        2.000000   1926.000000\n",
       "25%        3.500000   2008.000000\n",
       "50%        3.800000   2014.000000\n",
       "75%        4.100000   2018.000000\n",
       "max        4.700000   2022.000000"
      ]
     },
     "execution_count": 93,
     "metadata": {},
     "output_type": "execute_result"
    }
   ],
   "source": [
    "df.describe()"
   ]
  },
  {
   "cell_type": "markdown",
   "id": "d0395f56",
   "metadata": {},
   "source": [
    "\n",
    "\n",
    "### Nomor 4\n",
    "\n",
    "#### Menampilkan Nilai Kolerasi attribute bertipe angka\n"
   ]
  },
  {
   "cell_type": "code",
   "execution_count": 94,
   "id": "0e9f937a",
   "metadata": {},
   "outputs": [
    {
     "data": {
      "text/html": [
       "<div>\n",
       "<style scoped>\n",
       "    .dataframe tbody tr th:only-of-type {\n",
       "        vertical-align: middle;\n",
       "    }\n",
       "\n",
       "    .dataframe tbody tr th {\n",
       "        vertical-align: top;\n",
       "    }\n",
       "\n",
       "    .dataframe thead th {\n",
       "        text-align: right;\n",
       "    }\n",
       "</style>\n",
       "<table border=\"1\" class=\"dataframe\">\n",
       "  <thead>\n",
       "    <tr style=\"text-align: right;\">\n",
       "      <th></th>\n",
       "      <th>rating</th>\n",
       "      <th>year</th>\n",
       "    </tr>\n",
       "  </thead>\n",
       "  <tbody>\n",
       "    <tr>\n",
       "      <th>rating</th>\n",
       "      <td>1.000000</td>\n",
       "      <td>0.235943</td>\n",
       "    </tr>\n",
       "    <tr>\n",
       "      <th>year</th>\n",
       "      <td>0.235943</td>\n",
       "      <td>1.000000</td>\n",
       "    </tr>\n",
       "  </tbody>\n",
       "</table>\n",
       "</div>"
      ],
      "text/plain": [
       "          rating      year\n",
       "rating  1.000000  0.235943\n",
       "year    0.235943  1.000000"
      ]
     },
     "execution_count": 94,
     "metadata": {},
     "output_type": "execute_result"
    }
   ],
   "source": [
    "df.corr()"
   ]
  },
  {
   "cell_type": "markdown",
   "id": "debb9170",
   "metadata": {},
   "source": [
    "\n",
    "\n",
    "### Nomor 5\n",
    "\n",
    "#### Merubah Salah Satu attribute angka menjadi desimal 3 angka\n"
   ]
  },
  {
   "cell_type": "code",
   "execution_count": 95,
   "id": "76923494",
   "metadata": {},
   "outputs": [
    {
     "data": {
      "text/plain": [
       "0        4.700\n",
       "1        4.700\n",
       "2        4.700\n",
       "3        4.700\n",
       "4        4.700\n",
       "         ...  \n",
       "70943      nan\n",
       "70944      nan\n",
       "70945      nan\n",
       "70946      nan\n",
       "70947      nan\n",
       "Name: rating, Length: 70948, dtype: object"
      ]
     },
     "execution_count": 95,
     "metadata": {},
     "output_type": "execute_result"
    }
   ],
   "source": [
    "atr_3decimal = df[\"rating\"].map(\"{:.3f}\".format)\n",
    "atr_3decimal\n"
   ]
  },
  {
   "cell_type": "markdown",
   "id": "dae5161e",
   "metadata": {},
   "source": [
    "#### Merubah Salah Satu Attribute Angka menjadi Bilangan Bulat"
   ]
  },
  {
   "cell_type": "code",
   "execution_count": 96,
   "id": "cf57f6fd",
   "metadata": {},
   "outputs": [
    {
     "data": {
      "text/plain": [
       "0          5\n",
       "1          5\n",
       "2          5\n",
       "3          5\n",
       "4          5\n",
       "        ... \n",
       "70943    nan\n",
       "70944    nan\n",
       "70945    nan\n",
       "70946    nan\n",
       "70947    nan\n",
       "Name: rating, Length: 70948, dtype: object"
      ]
     },
     "execution_count": 96,
     "metadata": {},
     "output_type": "execute_result"
    }
   ],
   "source": [
    "atr_int =df[\"rating\"].map(\"{:.0f}\".format)\n",
    "atr_int"
   ]
  },
  {
   "cell_type": "markdown",
   "id": "757d2388",
   "metadata": {},
   "source": [
    "\n",
    "### Nomor 6\n",
    "#### Menampilkan 10 record pertama bertipe angka"
   ]
  },
  {
   "cell_type": "code",
   "execution_count": 97,
   "id": "3f32328e",
   "metadata": {},
   "outputs": [
    {
     "data": {
      "text/html": [
       "<div>\n",
       "<style scoped>\n",
       "    .dataframe tbody tr th:only-of-type {\n",
       "        vertical-align: middle;\n",
       "    }\n",
       "\n",
       "    .dataframe tbody tr th {\n",
       "        vertical-align: top;\n",
       "    }\n",
       "\n",
       "    .dataframe thead th {\n",
       "        text-align: right;\n",
       "    }\n",
       "</style>\n",
       "<table border=\"1\" class=\"dataframe\">\n",
       "  <thead>\n",
       "    <tr style=\"text-align: right;\">\n",
       "      <th></th>\n",
       "      <th>rating</th>\n",
       "      <th>year</th>\n",
       "    </tr>\n",
       "  </thead>\n",
       "  <tbody>\n",
       "    <tr>\n",
       "      <th>0</th>\n",
       "      <td>4.7</td>\n",
       "      <td>2021.0</td>\n",
       "    </tr>\n",
       "    <tr>\n",
       "      <th>1</th>\n",
       "      <td>4.7</td>\n",
       "      <td>2017.0</td>\n",
       "    </tr>\n",
       "    <tr>\n",
       "      <th>2</th>\n",
       "      <td>4.7</td>\n",
       "      <td>2004.0</td>\n",
       "    </tr>\n",
       "    <tr>\n",
       "      <th>3</th>\n",
       "      <td>4.7</td>\n",
       "      <td>2019.0</td>\n",
       "    </tr>\n",
       "    <tr>\n",
       "      <th>4</th>\n",
       "      <td>4.7</td>\n",
       "      <td>2016.0</td>\n",
       "    </tr>\n",
       "    <tr>\n",
       "      <th>5</th>\n",
       "      <td>4.7</td>\n",
       "      <td>2015.0</td>\n",
       "    </tr>\n",
       "    <tr>\n",
       "      <th>6</th>\n",
       "      <td>4.7</td>\n",
       "      <td>2017.0</td>\n",
       "    </tr>\n",
       "    <tr>\n",
       "      <th>7</th>\n",
       "      <td>4.7</td>\n",
       "      <td>2016.0</td>\n",
       "    </tr>\n",
       "    <tr>\n",
       "      <th>8</th>\n",
       "      <td>4.7</td>\n",
       "      <td>2018.0</td>\n",
       "    </tr>\n",
       "    <tr>\n",
       "      <th>9</th>\n",
       "      <td>4.7</td>\n",
       "      <td>2020.0</td>\n",
       "    </tr>\n",
       "  </tbody>\n",
       "</table>\n",
       "</div>"
      ],
      "text/plain": [
       "   rating    year\n",
       "0     4.7  2021.0\n",
       "1     4.7  2017.0\n",
       "2     4.7  2004.0\n",
       "3     4.7  2019.0\n",
       "4     4.7  2016.0\n",
       "5     4.7  2015.0\n",
       "6     4.7  2017.0\n",
       "7     4.7  2016.0\n",
       "8     4.7  2018.0\n",
       "9     4.7  2020.0"
      ]
     },
     "execution_count": 97,
     "metadata": {},
     "output_type": "execute_result"
    }
   ],
   "source": [
    "df_atr_angka = df.select_dtypes(include=[\"float64\"])\n",
    "df_atr_angka.head(10)"
   ]
  },
  {
   "cell_type": "markdown",
   "id": "a93b3481",
   "metadata": {},
   "source": [
    "\n",
    "\n",
    "### Nomor 7\n",
    "#### Menyimpan dataset bertipe angka ke dalam CSV\n"
   ]
  },
  {
   "cell_type": "code",
   "execution_count": null,
   "id": "85e4f3f0",
   "metadata": {},
   "outputs": [],
   "source": [
    "df_atr_angka.to_csv(\"data/Manga,Manhua,Manhwa angka.csv\",index=False)"
   ]
  }
 ],
 "metadata": {
  "kernelspec": {
   "display_name": "Raymond_057",
   "language": "python",
   "name": "raymond_057"
  },
  "language_info": {
   "codemirror_mode": {
    "name": "ipython",
    "version": 3
   },
   "file_extension": ".py",
   "mimetype": "text/x-python",
   "name": "python",
   "nbconvert_exporter": "python",
   "pygments_lexer": "ipython3",
   "version": "3.10.7"
  }
 },
 "nbformat": 4,
 "nbformat_minor": 5
}
